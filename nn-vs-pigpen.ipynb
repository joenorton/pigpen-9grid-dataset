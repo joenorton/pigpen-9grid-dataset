{
 "cells": [
  {
   "cell_type": "markdown",
   "metadata": {},
   "source": [
    "# Pigpen PyTorch Example\n",
    "by Joe Norton"
   ]
  },
  {
   "cell_type": "code",
   "execution_count": 23,
   "metadata": {},
   "outputs": [],
   "source": [
    "import torch\n",
    "import torchvision\n",
    "import torchvision.transforms as transforms\n",
    "import torch.nn as nn\n",
    "import torch.nn.functional as F\n",
    "import torch.optim as optim"
   ]
  },
  {
   "cell_type": "code",
   "execution_count": 24,
   "metadata": {},
   "outputs": [],
   "source": [
    "import random\n",
    "from PigpenDataset import PigpenDatasetClass\n"
   ]
  },
  {
   "cell_type": "code",
   "execution_count": 25,
   "metadata": {},
   "outputs": [],
   "source": [
    "transform = transforms.Compose([\n",
    "    transforms.ToTensor(),\n",
    "    #transforms.Normalize((0.5,), (0.5,))  # Example normalization\n",
    "])\n",
    "\n",
    "train_dataset = PigpenDatasetClass('data/train', transform=transform)\n",
    "test_dataset = PigpenDatasetClass('data/test', transform=transform)\n",
    "valid_dataset = PigpenDatasetClass('data/validation', transform=transform)\n",
    "\n",
    "train_loader = torch.utils.data.DataLoader(train_dataset, batch_size=27, shuffle=True)\n",
    "test_loader = torch.utils.data.DataLoader(test_dataset, batch_size=27, shuffle=False)\n",
    "valid_loader = torch.utils.data.DataLoader(valid_dataset, batch_size=27, shuffle=False)"
   ]
  },
  {
   "cell_type": "code",
   "execution_count": 26,
   "metadata": {},
   "outputs": [
    {
     "data": {
      "text/plain": [
       "(54000, 10800, 10800)"
      ]
     },
     "execution_count": 26,
     "metadata": {},
     "output_type": "execute_result"
    }
   ],
   "source": [
    "len(train_dataset), len(test_dataset), len(valid_dataset)"
   ]
  },
  {
   "cell_type": "code",
   "execution_count": 27,
   "metadata": {},
   "outputs": [
    {
     "name": "stdout",
     "output_type": "stream",
     "text": [
      "Using cuda device\n",
      "NeuralNetwork(\n",
      "  (flatten): Flatten(start_dim=1, end_dim=-1)\n",
      "  (linear_relu_stack): Sequential(\n",
      "    (0): Linear(in_features=784, out_features=512, bias=True)\n",
      "    (1): ReLU()\n",
      "    (2): Linear(in_features=512, out_features=512, bias=True)\n",
      "    (3): ReLU()\n",
      "    (4): Linear(in_features=512, out_features=28, bias=True)\n",
      "  )\n",
      ")\n"
     ]
    }
   ],
   "source": [
    "# Get cpu, gpu or mps device for training.\n",
    "device = (\n",
    "    \"cuda\"\n",
    "    if torch.cuda.is_available()\n",
    "    else \"mps\"\n",
    "    if torch.backends.mps.is_available()\n",
    "    else \"cpu\"\n",
    ")\n",
    "print(f\"Using {device} device\")\n",
    "\n",
    "# Define model\n",
    "class NeuralNetwork(nn.Module):\n",
    "    def __init__(self):\n",
    "        super().__init__()\n",
    "        self.flatten = nn.Flatten()\n",
    "        self.linear_relu_stack = nn.Sequential(\n",
    "            nn.Linear(28*28, 512),\n",
    "            nn.ReLU(),\n",
    "            nn.Linear(512, 512),\n",
    "            nn.ReLU(),\n",
    "            nn.Linear(512, 28)\n",
    "        )\n",
    "\n",
    "    def forward(self, x):\n",
    "        x = self.flatten(x)\n",
    "        logits = self.linear_relu_stack(x)\n",
    "        return logits\n",
    "\n",
    "model = NeuralNetwork().to(device)\n",
    "print(model)"
   ]
  },
  {
   "cell_type": "code",
   "execution_count": 28,
   "metadata": {},
   "outputs": [],
   "source": [
    "\n",
    "# Create the network, define a loss function, and optimizer\n",
    "loss_fn = nn.CrossEntropyLoss()\n",
    "optimizer = optim.SGD(model.parameters(), lr=0.01, momentum=0.9)"
   ]
  },
  {
   "cell_type": "code",
   "execution_count": 29,
   "metadata": {},
   "outputs": [],
   "source": [
    "epoch_val_loss = []\n",
    "epoch_val_acc = []"
   ]
  },
  {
   "cell_type": "code",
   "execution_count": 30,
   "metadata": {},
   "outputs": [],
   "source": [
    "def train(dataloader, model, loss_fn, optimizer):\n",
    "    size = len(dataloader.dataset)\n",
    "    model.train()\n",
    "    for batch, (X, y) in enumerate(dataloader):\n",
    "        X, y = X.to(device), y.to(device)\n",
    "\n",
    "        # Compute prediction error\n",
    "        pred = model(X)\n",
    "        loss = loss_fn(pred, y)\n",
    "\n",
    "        # Backpropagation\n",
    "        loss.backward()\n",
    "        optimizer.step()\n",
    "        optimizer.zero_grad()\n",
    "\n",
    "        if batch % 100 == 0:\n",
    "            loss, current = loss.item(), (batch + 1) * len(X)\n",
    "            print(f\"loss: {loss:>7f}  [{current:>5d}/{size:>5d}]\")\n",
    "        \n",
    "def test(dataloader, model, loss_fn):\n",
    "    size = len(dataloader.dataset)\n",
    "    num_batches = len(dataloader)\n",
    "    model.eval()\n",
    "    test_loss, correct = 0, 0\n",
    "    with torch.no_grad():\n",
    "        for X, y in dataloader:\n",
    "            X, y = X.to(device), y.to(device)\n",
    "            pred = model(X)\n",
    "            test_loss += loss_fn(pred, y).item()\n",
    "            correct += (pred.argmax(1) == y).type(torch.float).sum().item()\n",
    "    test_loss /= num_batches\n",
    "    correct /= size\n",
    "    print(f\"Test Error: \\n Accuracy: {(100*correct):>0.1f}%, Avg loss: {test_loss:>8f} \\n\")\n",
    "    epoch_val_loss.append(test_loss)\n",
    "    epoch_val_acc.append((100*correct))"
   ]
  },
  {
   "cell_type": "code",
   "execution_count": 31,
   "metadata": {},
   "outputs": [
    {
     "name": "stdout",
     "output_type": "stream",
     "text": [
      "Epoch 1\n",
      "-------------------------------\n",
      "loss: 3.299440  [   27/54000]\n",
      "loss: 2.984580  [ 2727/54000]\n",
      "loss: 2.079112  [ 5427/54000]\n",
      "loss: 1.016214  [ 8127/54000]\n",
      "loss: 0.841254  [10827/54000]\n",
      "loss: 0.902645  [13527/54000]\n",
      "loss: 0.590333  [16227/54000]\n",
      "loss: 1.077843  [18927/54000]\n",
      "loss: 0.666389  [21627/54000]\n",
      "loss: 0.606644  [24327/54000]\n",
      "loss: 0.551212  [27027/54000]\n",
      "loss: 0.777076  [29727/54000]\n",
      "loss: 0.649748  [32427/54000]\n",
      "loss: 0.816776  [35127/54000]\n",
      "loss: 0.909134  [37827/54000]\n",
      "loss: 0.363323  [40527/54000]\n",
      "loss: 0.327688  [43227/54000]\n",
      "loss: 0.311418  [45927/54000]\n",
      "loss: 0.281961  [48627/54000]\n",
      "loss: 0.212202  [51327/54000]\n",
      "Test Error: \n",
      " Accuracy: 63.2%, Avg loss: 1.208270 \n",
      "\n",
      "Epoch 2\n",
      "-------------------------------\n",
      "loss: 0.368789  [   27/54000]\n",
      "loss: 0.367427  [ 2727/54000]\n",
      "loss: 0.229923  [ 5427/54000]\n",
      "loss: 0.409425  [ 8127/54000]\n",
      "loss: 0.333492  [10827/54000]\n",
      "loss: 0.312300  [13527/54000]\n",
      "loss: 0.440367  [16227/54000]\n",
      "loss: 0.321757  [18927/54000]\n",
      "loss: 0.185651  [21627/54000]\n",
      "loss: 0.171411  [24327/54000]\n",
      "loss: 0.160065  [27027/54000]\n",
      "loss: 0.081021  [29727/54000]\n",
      "loss: 0.068945  [32427/54000]\n",
      "loss: 0.148877  [35127/54000]\n",
      "loss: 0.312385  [37827/54000]\n",
      "loss: 0.223266  [40527/54000]\n",
      "loss: 0.192049  [43227/54000]\n",
      "loss: 0.177497  [45927/54000]\n",
      "loss: 0.297580  [48627/54000]\n",
      "loss: 0.305831  [51327/54000]\n",
      "Test Error: \n",
      " Accuracy: 74.0%, Avg loss: 0.940585 \n",
      "\n",
      "Epoch 3\n",
      "-------------------------------\n",
      "loss: 0.139392  [   27/54000]\n",
      "loss: 0.064295  [ 2727/54000]\n",
      "loss: 0.251361  [ 5427/54000]\n",
      "loss: 0.091540  [ 8127/54000]\n",
      "loss: 0.243586  [10827/54000]\n",
      "loss: 0.101030  [13527/54000]\n",
      "loss: 0.094561  [16227/54000]\n",
      "loss: 0.036503  [18927/54000]\n",
      "loss: 0.347655  [21627/54000]\n",
      "loss: 0.082106  [24327/54000]\n",
      "loss: 0.056861  [27027/54000]\n",
      "loss: 0.172591  [29727/54000]\n",
      "loss: 0.094461  [32427/54000]\n",
      "loss: 0.061281  [35127/54000]\n",
      "loss: 0.067790  [37827/54000]\n",
      "loss: 0.047971  [40527/54000]\n",
      "loss: 0.091205  [43227/54000]\n",
      "loss: 0.148318  [45927/54000]\n",
      "loss: 0.102991  [48627/54000]\n",
      "loss: 0.019583  [51327/54000]\n",
      "Test Error: \n",
      " Accuracy: 67.6%, Avg loss: 1.357485 \n",
      "\n",
      "Epoch 4\n",
      "-------------------------------\n",
      "loss: 0.006638  [   27/54000]\n",
      "loss: 0.119849  [ 2727/54000]\n",
      "loss: 0.121839  [ 5427/54000]\n",
      "loss: 0.094373  [ 8127/54000]\n",
      "loss: 0.056375  [10827/54000]\n",
      "loss: 0.044186  [13527/54000]\n",
      "loss: 0.009356  [16227/54000]\n",
      "loss: 0.125456  [18927/54000]\n",
      "loss: 0.004448  [21627/54000]\n",
      "loss: 0.092330  [24327/54000]\n",
      "loss: 0.112554  [27027/54000]\n",
      "loss: 0.002821  [29727/54000]\n",
      "loss: 0.003914  [32427/54000]\n",
      "loss: 0.008066  [35127/54000]\n",
      "loss: 0.030042  [37827/54000]\n",
      "loss: 0.108705  [40527/54000]\n",
      "loss: 0.034863  [43227/54000]\n",
      "loss: 0.023773  [45927/54000]\n",
      "loss: 0.011717  [48627/54000]\n",
      "loss: 0.007042  [51327/54000]\n",
      "Test Error: \n",
      " Accuracy: 75.3%, Avg loss: 1.009976 \n",
      "\n",
      "Epoch 5\n",
      "-------------------------------\n",
      "loss: 0.022014  [   27/54000]\n",
      "loss: 0.192386  [ 2727/54000]\n",
      "loss: 0.035008  [ 5427/54000]\n",
      "loss: 0.018654  [ 8127/54000]\n",
      "loss: 0.152642  [10827/54000]\n",
      "loss: 0.047848  [13527/54000]\n",
      "loss: 0.018359  [16227/54000]\n",
      "loss: 0.027632  [18927/54000]\n",
      "loss: 0.009936  [21627/54000]\n",
      "loss: 0.009160  [24327/54000]\n",
      "loss: 0.027441  [27027/54000]\n",
      "loss: 0.116363  [29727/54000]\n",
      "loss: 0.051016  [32427/54000]\n",
      "loss: 0.044794  [35127/54000]\n",
      "loss: 0.010768  [37827/54000]\n",
      "loss: 0.019775  [40527/54000]\n",
      "loss: 0.013305  [43227/54000]\n",
      "loss: 0.042829  [45927/54000]\n",
      "loss: 0.009206  [48627/54000]\n",
      "loss: 0.132758  [51327/54000]\n",
      "Test Error: \n",
      " Accuracy: 83.2%, Avg loss: 0.680151 \n",
      "\n",
      "Epoch 6\n",
      "-------------------------------\n",
      "loss: 0.022508  [   27/54000]\n",
      "loss: 0.035719  [ 2727/54000]\n",
      "loss: 0.011075  [ 5427/54000]\n",
      "loss: 0.004162  [ 8127/54000]\n",
      "loss: 0.023124  [10827/54000]\n",
      "loss: 0.002540  [13527/54000]\n",
      "loss: 0.016711  [16227/54000]\n",
      "loss: 0.013928  [18927/54000]\n",
      "loss: 0.129449  [21627/54000]\n",
      "loss: 0.188727  [24327/54000]\n",
      "loss: 0.014692  [27027/54000]\n",
      "loss: 0.063180  [29727/54000]\n",
      "loss: 0.000207  [32427/54000]\n",
      "loss: 0.025546  [35127/54000]\n",
      "loss: 0.005103  [37827/54000]\n",
      "loss: 0.042868  [40527/54000]\n",
      "loss: 0.000121  [43227/54000]\n",
      "loss: 0.000587  [45927/54000]\n",
      "loss: 0.020970  [48627/54000]\n",
      "loss: 0.137282  [51327/54000]\n",
      "Test Error: \n",
      " Accuracy: 73.9%, Avg loss: 1.075129 \n",
      "\n",
      "Epoch 7\n",
      "-------------------------------\n",
      "loss: 0.004011  [   27/54000]\n",
      "loss: 0.082357  [ 2727/54000]\n",
      "loss: 0.000998  [ 5427/54000]\n",
      "loss: 0.046040  [ 8127/54000]\n",
      "loss: 0.039872  [10827/54000]\n",
      "loss: 0.003156  [13527/54000]\n",
      "loss: 0.002283  [16227/54000]\n",
      "loss: 0.069803  [18927/54000]\n",
      "loss: 0.000715  [21627/54000]\n",
      "loss: 0.003615  [24327/54000]\n",
      "loss: 0.000473  [27027/54000]\n",
      "loss: 0.052649  [29727/54000]\n",
      "loss: 0.009816  [32427/54000]\n",
      "loss: 0.002539  [35127/54000]\n",
      "loss: 0.006476  [37827/54000]\n",
      "loss: 0.000227  [40527/54000]\n",
      "loss: 0.009035  [43227/54000]\n",
      "loss: 0.001376  [45927/54000]\n",
      "loss: 0.019120  [48627/54000]\n",
      "loss: 0.057862  [51327/54000]\n",
      "Test Error: \n",
      " Accuracy: 78.1%, Avg loss: 0.927394 \n",
      "\n",
      "Epoch 8\n",
      "-------------------------------\n",
      "loss: 0.002702  [   27/54000]\n",
      "loss: 0.004635  [ 2727/54000]\n",
      "loss: 0.001019  [ 5427/54000]\n",
      "loss: 0.005121  [ 8127/54000]\n",
      "loss: 0.002024  [10827/54000]\n",
      "loss: 0.028434  [13527/54000]\n",
      "loss: 0.069402  [16227/54000]\n",
      "loss: 0.004333  [18927/54000]\n",
      "loss: 0.001222  [21627/54000]\n",
      "loss: 0.061867  [24327/54000]\n",
      "loss: 0.001076  [27027/54000]\n",
      "loss: 0.008107  [29727/54000]\n",
      "loss: 0.003018  [32427/54000]\n",
      "loss: 0.000856  [35127/54000]\n",
      "loss: 0.002773  [37827/54000]\n",
      "loss: 0.000891  [40527/54000]\n",
      "loss: 0.001608  [43227/54000]\n",
      "loss: 0.000362  [45927/54000]\n",
      "loss: 0.009392  [48627/54000]\n",
      "loss: 0.001758  [51327/54000]\n",
      "Test Error: \n",
      " Accuracy: 81.7%, Avg loss: 0.795158 \n",
      "\n",
      "Epoch 9\n",
      "-------------------------------\n",
      "loss: 0.001287  [   27/54000]\n",
      "loss: 0.002524  [ 2727/54000]\n",
      "loss: 0.000270  [ 5427/54000]\n",
      "loss: 0.153168  [ 8127/54000]\n",
      "loss: 0.000179  [10827/54000]\n",
      "loss: 0.000059  [13527/54000]\n",
      "loss: 0.000136  [16227/54000]\n",
      "loss: 0.001088  [18927/54000]\n",
      "loss: 0.000813  [21627/54000]\n",
      "loss: 0.000957  [24327/54000]\n",
      "loss: 0.001443  [27027/54000]\n",
      "loss: 0.013029  [29727/54000]\n",
      "loss: 0.018319  [32427/54000]\n",
      "loss: 0.003785  [35127/54000]\n",
      "loss: 0.008274  [37827/54000]\n",
      "loss: 0.046514  [40527/54000]\n",
      "loss: 0.012654  [43227/54000]\n",
      "loss: 0.012324  [45927/54000]\n",
      "loss: 0.000114  [48627/54000]\n",
      "loss: 0.001858  [51327/54000]\n",
      "Test Error: \n",
      " Accuracy: 83.5%, Avg loss: 0.719694 \n",
      "\n",
      "Epoch 10\n",
      "-------------------------------\n",
      "loss: 0.000948  [   27/54000]\n",
      "loss: 0.003491  [ 2727/54000]\n",
      "loss: 0.000188  [ 5427/54000]\n",
      "loss: 0.000053  [ 8127/54000]\n",
      "loss: 0.002793  [10827/54000]\n",
      "loss: 0.000174  [13527/54000]\n",
      "loss: 0.000288  [16227/54000]\n",
      "loss: 0.000044  [18927/54000]\n",
      "loss: 0.008882  [21627/54000]\n",
      "loss: 0.000351  [24327/54000]\n",
      "loss: 0.005971  [27027/54000]\n",
      "loss: 0.028341  [29727/54000]\n",
      "loss: 0.000530  [32427/54000]\n",
      "loss: 0.012758  [35127/54000]\n",
      "loss: 0.000599  [37827/54000]\n",
      "loss: 0.000128  [40527/54000]\n",
      "loss: 0.000095  [43227/54000]\n",
      "loss: 0.000814  [45927/54000]\n",
      "loss: 0.004047  [48627/54000]\n",
      "loss: 0.003510  [51327/54000]\n",
      "Test Error: \n",
      " Accuracy: 82.5%, Avg loss: 0.841392 \n",
      "\n",
      "Done!\n"
     ]
    }
   ],
   "source": [
    "epochs = 20\n",
    "for t in range(epochs):\n",
    "    print(f\"Epoch {t+1}\\n-------------------------------\")\n",
    "    train(train_loader, model, loss_fn, optimizer)\n",
    "    test(valid_loader, model, loss_fn)\n",
    "print(\"Done!\")"
   ]
  },
  {
   "cell_type": "code",
   "execution_count": 36,
   "metadata": {},
   "outputs": [
    {
     "data": {
      "text/plain": [
       "<function matplotlib.pyplot.show(close=None, block=None)>"
      ]
     },
     "execution_count": 36,
     "metadata": {},
     "output_type": "execute_result"
    },
    {
     "data": {
      "image/png": "[encoded data removed]",
      "text/plain": [
       "<Figure size 640x480 with 1 Axes>"
      ]
     },
     "metadata": {},
     "output_type": "display_data"
    }
   ],
   "source": [
    "from matplotlib import pyplot as plt\n",
    "plt.plot(epoch_val_loss, label='val_loss')\n",
    "plt.xlabel('Epoch')\n",
    "plt.ylabel('Loss')\n",
    "plt.title('Val. Loss over Epochs')\n",
    "plt.show"
   ]
  },
  {
   "cell_type": "code",
   "execution_count": 37,
   "metadata": {},
   "outputs": [
    {
     "data": {
      "text/plain": [
       "<function matplotlib.pyplot.show(close=None, block=None)>"
      ]
     },
     "execution_count": 37,
     "metadata": {},
     "output_type": "execute_result"
    },
    {
     "data": {
      "image/png": "[encoded data removed]",
      "text/plain": [
       "<Figure size 640x480 with 1 Axes>"
      ]
     },
     "metadata": {},
     "output_type": "display_data"
    }
   ],
   "source": [
    "plt.plot(epoch_val_acc,label='val_acc')\n",
    "plt.xlabel('Epoch')\n",
    "plt.ylabel('Acc')\n",
    "plt.title('Val. Acc over Epochs')\n",
    "plt.show"
   ]
  },
  {
   "cell_type": "code",
   "execution_count": 34,
   "metadata": {},
   "outputs": [
    {
     "name": "stdout",
     "output_type": "stream",
     "text": [
      "Test Error: \n",
      " Accuracy: 82.1%, Avg loss: 0.825557 \n",
      "\n"
     ]
    }
   ],
   "source": [
    "test(test_loader, model, loss_fn)"
   ]
  }
 ],
 "metadata": {
  "kernelspec": {
   "display_name": "Python 3",
   "language": "python",
   "name": "python3"
  },
  "language_info": {
   "codemirror_mode": {
    "name": "ipython",
    "version": 3
   },
   "file_extension": ".py",
   "mimetype": "text/x-python",
   "name": "python",
   "nbconvert_exporter": "python",
   "pygments_lexer": "ipython3",
   "version": "3.11.4"
  }
 },
 "nbformat": 4,
 "nbformat_minor": 2
}

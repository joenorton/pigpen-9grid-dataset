{
 "cells": [
  {
   "cell_type": "markdown",
   "metadata": {},
   "source": [
    "# Pigpen PyTorch Example\n",
    "by Joe Norton"
   ]
  },
  {
   "cell_type": "code",
   "execution_count": 1,
   "metadata": {},
   "outputs": [],
   "source": [
    "import torch\n",
    "import torchvision\n",
    "import torchvision.transforms as transforms\n",
    "import torch.nn as nn\n",
    "import torch.nn.functional as F\n",
    "import torch.optim as optim"
   ]
  },
  {
   "cell_type": "code",
   "execution_count": 2,
   "metadata": {},
   "outputs": [],
   "source": [
    "import random\n",
    "import os\n",
    "from PIL import Image\n",
    "from torch.utils.data import Dataset\n",
    "\n",
    "class PigpenDatasetClass(Dataset):\n",
    "    def __init__(self, directory, transform=None):\n",
    "        self.directory = directory\n",
    "        self.transform = transform\n",
    "        self.classes = ['A', 'B', 'C', 'D', 'E', 'F', 'G', 'H', 'I', 'J', 'K', 'L', 'M', 'N', 'O', 'P', 'Q', 'R', 'S', 'T', 'U', 'V', 'W', 'X', 'Y', 'Z', '-']\n",
    "        self.images = []\n",
    "        for cls in self.classes:\n",
    "            cls_dir = os.path.join(directory, cls)\n",
    "            self.images += [(os.path.join(cls_dir, img), cls) for img in os.listdir(cls_dir) if os.path.isfile(os.path.join(cls_dir, img))]\n",
    "\n",
    "    def __len__(self):\n",
    "        return len(self.images)\n",
    "\n",
    "    def __getitem__(self, idx):\n",
    "        img_path, cls = self.images[idx]\n",
    "        image = Image.open(img_path).convert('L')\n",
    "        if self.transform:\n",
    "            image = self.transform(image)\n",
    "        return image, self.classes.index(cls)\n",
    "\n"
   ]
  },
  {
   "cell_type": "code",
   "execution_count": 3,
   "metadata": {},
   "outputs": [],
   "source": [
    "transform = transforms.Compose([\n",
    "    transforms.ToTensor(),\n",
    "    #transforms.Normalize((0.5,), (0.5,))  # Example normalization\n",
    "])\n",
    "\n",
    "train_dataset = PigpenDatasetClass('data/train', transform=transform)\n",
    "test_dataset = PigpenDatasetClass('data/test', transform=transform)\n",
    "valid_dataset = PigpenDatasetClass('data/validation', transform=transform)\n",
    "\n",
    "train_loader = torch.utils.data.DataLoader(train_dataset, batch_size=27, shuffle=True)\n",
    "test_loader = torch.utils.data.DataLoader(test_dataset, batch_size=27, shuffle=False)\n",
    "valid_loader = torch.utils.data.DataLoader(valid_dataset, batch_size=27, shuffle=False)\n"
   ]
  },
  {
   "cell_type": "code",
   "execution_count": 4,
   "metadata": {},
   "outputs": [
    {
     "data": {
      "text/plain": [
       "(54000, 10800, 10800)"
      ]
     },
     "execution_count": 4,
     "metadata": {},
     "output_type": "execute_result"
    }
   ],
   "source": [
    "len(train_dataset), len(test_dataset), len(valid_dataset)"
   ]
  },
  {
   "cell_type": "code",
   "execution_count": 5,
   "metadata": {},
   "outputs": [
    {
     "name": "stdout",
     "output_type": "stream",
     "text": [
      "Using cuda device\n",
      "EnhancedCNN(\n",
      "  (flatten): Flatten(start_dim=1, end_dim=-1)\n",
      "  (conv_relu_pool_stack): Sequential(\n",
      "    (0): Conv2d(1, 32, kernel_size=(5, 5), stride=(1, 1), padding=same)\n",
      "    (1): ReLU()\n",
      "    (2): BatchNorm2d(32, eps=1e-05, momentum=0.1, affine=True, track_running_stats=True)\n",
      "    (3): MaxPool2d(kernel_size=2, stride=2, padding=0, dilation=1, ceil_mode=False)\n",
      "    (4): Dropout2d(p=0.1, inplace=False)\n",
      "    (5): Conv2d(32, 64, kernel_size=(5, 5), stride=(1, 1), padding=same)\n",
      "    (6): ReLU()\n",
      "    (7): BatchNorm2d(64, eps=1e-05, momentum=0.1, affine=True, track_running_stats=True)\n",
      "    (8): MaxPool2d(kernel_size=2, stride=2, padding=0, dilation=1, ceil_mode=False)\n",
      "    (9): Dropout2d(p=0.2, inplace=False)\n",
      "    (10): Conv2d(64, 128, kernel_size=(5, 5), stride=(1, 1), padding=same)\n",
      "    (11): ReLU()\n",
      "    (12): BatchNorm2d(128, eps=1e-05, momentum=0.1, affine=True, track_running_stats=True)\n",
      "    (13): MaxPool2d(kernel_size=2, stride=2, padding=0, dilation=1, ceil_mode=False)\n",
      "    (14): Dropout2d(p=0.4, inplace=False)\n",
      "  )\n",
      "  (linear_layers): Sequential(\n",
      "    (0): Linear(in_features=1152, out_features=256, bias=True)\n",
      "    (1): ReLU()\n",
      "    (2): Linear(in_features=256, out_features=28, bias=True)\n",
      "  )\n",
      ")\n"
     ]
    }
   ],
   "source": [
    "import torch.nn as nn\n",
    "import torch.nn.functional as F\n",
    "\n",
    "# Get cpu, gpu or mps device for training.\n",
    "device = (\n",
    "    \"cuda\"\n",
    "    if torch.cuda.is_available()\n",
    "    else \"mps\"\n",
    "    if torch.backends.mps.is_available()\n",
    "    else \"cpu\"\n",
    ")\n",
    "print(f\"Using {device} device\")\n",
    "\n",
    "class EnhancedCNN(nn.Module):\n",
    "    def __init__(self):\n",
    "        super(EnhancedCNN, self).__init__()\n",
    "        self.flatten = nn.Flatten()\n",
    "        self.conv_relu_pool_stack = nn.Sequential(\n",
    "            nn.Conv2d(1, 32, kernel_size=5, stride=1, padding=\"same\"), #layer 1\n",
    "            nn.ReLU(),\n",
    "            nn.BatchNorm2d(32),\n",
    "            nn.MaxPool2d(2),\n",
    "            nn.Dropout2d(0.1),\n",
    "            nn.Conv2d(32, 64, kernel_size=5, stride=1, padding=\"same\"), #layer 2\n",
    "            nn.ReLU(),\n",
    "            nn.BatchNorm2d(64),\n",
    "            nn.MaxPool2d(2),\n",
    "            nn.Dropout2d(0.2),\n",
    "            nn.Conv2d(64, 128, kernel_size=5, stride=1, padding=\"same\"), #layer 3\n",
    "            nn.ReLU(),\n",
    "            nn.BatchNorm2d(128),\n",
    "            nn.MaxPool2d(2),\n",
    "            nn.Dropout2d(0.4)\n",
    "        )\n",
    "\n",
    "        # Adjust these sizes based on your actual output from convolutions\n",
    "        self.linear_layers = nn.Sequential(\n",
    "            nn.Linear(1152, 256),  # Adjust size according to output\n",
    "            nn.ReLU(),\n",
    "            nn.Linear(256, 28)  # 28 output classes\n",
    "        )\n",
    "\n",
    "\n",
    "    def forward(self, x):\n",
    "        x = self.conv_relu_pool_stack(x)\n",
    "        #print(x.size())\n",
    "        x = self.flatten(x)\n",
    "        x = self.linear_layers(x)\n",
    "        return x\n",
    "\n",
    "\n",
    "model = EnhancedCNN().to(device)\n",
    "print(model)\n"
   ]
  },
  {
   "cell_type": "code",
   "execution_count": 6,
   "metadata": {},
   "outputs": [],
   "source": [
    "\n",
    "# Create the network, define a loss function, and optimizer\n",
    "loss_fn = nn.CrossEntropyLoss()\n",
    "optimizer = optim.SGD(model.parameters(), lr=0.01, momentum=0.9)\n"
   ]
  },
  {
   "cell_type": "code",
   "execution_count": 7,
   "metadata": {},
   "outputs": [
    {
     "name": "stdout",
     "output_type": "stream",
     "text": [
      "Shape of X [N, C, H, W]: torch.Size([27, 1, 28, 28])\n",
      "Shape of y: torch.Size([27]) torch.int64\n"
     ]
    }
   ],
   "source": [
    "for X, y in test_loader:\n",
    "    print(f\"Shape of X [N, C, H, W]: {X.shape}\")\n",
    "    print(f\"Shape of y: {y.shape} {y.dtype}\")\n",
    "    break"
   ]
  },
  {
   "cell_type": "code",
   "execution_count": 8,
   "metadata": {},
   "outputs": [],
   "source": [
    "#stat accumulators\n",
    "epoch_val_loss = []\n",
    "epoch_val_acc = []"
   ]
  },
  {
   "cell_type": "code",
   "execution_count": 9,
   "metadata": {},
   "outputs": [],
   "source": [
    "def train(dataloader, model, loss_fn, optimizer):\n",
    "    size = len(dataloader.dataset)\n",
    "    model.train()\n",
    "    for batch, (X, y) in enumerate(dataloader):\n",
    "        X, y = X.to(device), y.to(device)\n",
    "\n",
    "        # Compute prediction error\n",
    "        pred = model(X)\n",
    "        loss = loss_fn(pred, y)\n",
    "\n",
    "        # Backpropagation\n",
    "        loss.backward()\n",
    "        optimizer.step()\n",
    "        optimizer.zero_grad()\n",
    "\n",
    "        if batch % 100 == 0:\n",
    "            loss, current = loss.item(), (batch + 1) * len(X)\n",
    "            print(f\"loss: {loss:>7f}  [{current:>5d}/{size:>5d}]\")"
   ]
  },
  {
   "cell_type": "code",
   "execution_count": 10,
   "metadata": {},
   "outputs": [],
   "source": [
    "def test(dataloader, model, loss_fn):\n",
    "    size = len(dataloader.dataset)\n",
    "    num_batches = len(dataloader)\n",
    "    model.eval()\n",
    "    test_loss, correct = 0, 0\n",
    "    with torch.no_grad():\n",
    "        for X, y in dataloader:\n",
    "            X, y = X.to(device), y.to(device)\n",
    "            pred = model(X)\n",
    "            test_loss += loss_fn(pred, y).item()\n",
    "            correct += (pred.argmax(1) == y).type(torch.float).sum().item()\n",
    "    test_loss /= num_batches\n",
    "    correct /= size\n",
    "    print(f\"Test Error: \\n Accuracy: {(100*correct):>0.1f}%, Avg loss: {test_loss:>8f} \\n\")\n",
    "    epoch_val_loss.append(test_loss)\n",
    "    epoch_val_acc.append((100*correct))"
   ]
  },
  {
   "cell_type": "code",
   "execution_count": 11,
   "metadata": {},
   "outputs": [
    {
     "name": "stdout",
     "output_type": "stream",
     "text": [
      "Epoch 1\n",
      "-------------------------------\n",
      "loss: 3.319456  [   27/54000]\n",
      "loss: 0.540801  [ 2727/54000]\n",
      "loss: 0.152553  [ 5427/54000]\n",
      "loss: 0.058552  [ 8127/54000]\n",
      "loss: 0.032847  [10827/54000]\n",
      "loss: 0.031730  [13527/54000]\n",
      "loss: 0.083720  [16227/54000]\n",
      "loss: 0.035404  [18927/54000]\n",
      "loss: 0.053136  [21627/54000]\n",
      "loss: 0.008959  [24327/54000]\n",
      "loss: 0.010983  [27027/54000]\n",
      "loss: 0.016045  [29727/54000]\n",
      "loss: 0.019951  [32427/54000]\n",
      "loss: 0.000402  [35127/54000]\n",
      "loss: 0.009083  [37827/54000]\n",
      "loss: 0.000148  [40527/54000]\n",
      "loss: 0.000168  [43227/54000]\n",
      "loss: 0.000959  [45927/54000]\n",
      "loss: 0.001097  [48627/54000]\n",
      "loss: 0.000030  [51327/54000]\n",
      "Test Error: \n",
      " Accuracy: 93.7%, Avg loss: 0.239551 \n",
      "\n",
      "Epoch 2\n",
      "-------------------------------\n",
      "loss: 0.002446  [   27/54000]\n",
      "loss: 0.005510  [ 2727/54000]\n",
      "loss: 0.000436  [ 5427/54000]\n",
      "loss: 0.002192  [ 8127/54000]\n",
      "loss: 0.000423  [10827/54000]\n",
      "loss: 0.000923  [13527/54000]\n",
      "loss: 0.000870  [16227/54000]\n",
      "loss: 0.007698  [18927/54000]\n",
      "loss: 0.001233  [21627/54000]\n",
      "loss: 0.000082  [24327/54000]\n",
      "loss: 0.003207  [27027/54000]\n",
      "loss: 0.000075  [29727/54000]\n",
      "loss: 0.000155  [32427/54000]\n",
      "loss: 0.000446  [35127/54000]\n",
      "loss: 0.000099  [37827/54000]\n",
      "loss: 0.000098  [40527/54000]\n",
      "loss: 0.000119  [43227/54000]\n",
      "loss: 0.012522  [45927/54000]\n",
      "loss: 0.000567  [48627/54000]\n",
      "loss: 0.000101  [51327/54000]\n",
      "Test Error: \n",
      " Accuracy: 93.0%, Avg loss: 0.268102 \n",
      "\n",
      "Epoch 3\n",
      "-------------------------------\n",
      "loss: 0.000039  [   27/54000]\n",
      "loss: 0.000059  [ 2727/54000]\n",
      "loss: 0.001207  [ 5427/54000]\n",
      "loss: 0.001138  [ 8127/54000]\n",
      "loss: 0.000134  [10827/54000]\n",
      "loss: 0.003338  [13527/54000]\n",
      "loss: 0.000211  [16227/54000]\n",
      "loss: 0.002273  [18927/54000]\n",
      "loss: 0.001246  [21627/54000]\n",
      "loss: 0.000556  [24327/54000]\n",
      "loss: 0.000078  [27027/54000]\n",
      "loss: 0.001930  [29727/54000]\n",
      "loss: 0.000882  [32427/54000]\n",
      "loss: 0.003963  [35127/54000]\n",
      "loss: 0.004152  [37827/54000]\n",
      "loss: 0.000209  [40527/54000]\n",
      "loss: 0.001127  [43227/54000]\n",
      "loss: 0.000235  [45927/54000]\n",
      "loss: 0.000218  [48627/54000]\n",
      "loss: 0.000541  [51327/54000]\n",
      "Test Error: \n",
      " Accuracy: 97.0%, Avg loss: 0.110007 \n",
      "\n",
      "Epoch 4\n",
      "-------------------------------\n",
      "loss: 0.000279  [   27/54000]\n",
      "loss: 0.000022  [ 2727/54000]\n",
      "loss: 0.000012  [ 5427/54000]\n",
      "loss: 0.000041  [ 8127/54000]\n",
      "loss: 0.000100  [10827/54000]\n",
      "loss: 0.000102  [13527/54000]\n",
      "loss: 0.000003  [16227/54000]\n",
      "loss: 0.012203  [18927/54000]\n",
      "loss: 0.000070  [21627/54000]\n",
      "loss: 0.000016  [24327/54000]\n",
      "loss: 0.000502  [27027/54000]\n",
      "loss: 0.001754  [29727/54000]\n",
      "loss: 0.000313  [32427/54000]\n",
      "loss: 0.000006  [35127/54000]\n",
      "loss: 0.000051  [37827/54000]\n",
      "loss: 0.000003  [40527/54000]\n",
      "loss: 0.079868  [43227/54000]\n",
      "loss: 0.001300  [45927/54000]\n",
      "loss: 0.000017  [48627/54000]\n",
      "loss: 0.000030  [51327/54000]\n",
      "Test Error: \n",
      " Accuracy: 95.6%, Avg loss: 0.187065 \n",
      "\n",
      "Epoch 5\n",
      "-------------------------------\n",
      "loss: 0.000140  [   27/54000]\n",
      "loss: 0.064819  [ 2727/54000]\n",
      "loss: 0.001268  [ 5427/54000]\n",
      "loss: 0.005990  [ 8127/54000]\n",
      "loss: 0.000808  [10827/54000]\n",
      "loss: 0.000054  [13527/54000]\n",
      "loss: 0.000354  [16227/54000]\n",
      "loss: 0.000009  [18927/54000]\n",
      "loss: 0.013069  [21627/54000]\n",
      "loss: 0.002611  [24327/54000]\n",
      "loss: 0.001920  [27027/54000]\n",
      "loss: 0.001386  [29727/54000]\n",
      "loss: 0.000042  [32427/54000]\n",
      "loss: 0.000066  [35127/54000]\n",
      "loss: 0.000006  [37827/54000]\n",
      "loss: 0.000210  [40527/54000]\n",
      "loss: 0.000093  [43227/54000]\n",
      "loss: 0.000023  [45927/54000]\n",
      "loss: 0.000041  [48627/54000]\n",
      "loss: 0.000585  [51327/54000]\n",
      "Test Error: \n",
      " Accuracy: 97.7%, Avg loss: 0.091100 \n",
      "\n",
      "Done!\n"
     ]
    }
   ],
   "source": [
    "epochs = 5\n",
    "for t in range(epochs):\n",
    "    print(f\"Epoch {t+1}\\n-------------------------------\")\n",
    "    train(train_loader, model, loss_fn, optimizer)\n",
    "    test(valid_loader, model, loss_fn)\n",
    "print(\"Done!\")"
   ]
  },
  {
   "cell_type": "code",
   "execution_count": 12,
   "metadata": {},
   "outputs": [
    {
     "data": {
      "text/plain": [
       "<function matplotlib.pyplot.show(close=None, block=None)>"
      ]
     },
     "execution_count": 12,
     "metadata": {},
     "output_type": "execute_result"
    },
    {
     "data": {
      "image/png": "[encoded data removed]",
      "text/plain": [
       "<Figure size 640x480 with 1 Axes>"
      ]
     },
     "metadata": {},
     "output_type": "display_data"
    }
   ],
   "source": [
    "from matplotlib import pyplot as plt\n",
    "plt.plot(epoch_val_loss, label='val_loss')\n",
    "plt.xlabel('Epoch')\n",
    "plt.ylabel('Loss')\n",
    "plt.title('Val. Loss over Epochs')\n",
    "plt.show"
   ]
  },
  {
   "cell_type": "code",
   "execution_count": 13,
   "metadata": {},
   "outputs": [
    {
     "data": {
      "text/plain": [
       "<function matplotlib.pyplot.show(close=None, block=None)>"
      ]
     },
     "execution_count": 13,
     "metadata": {},
     "output_type": "execute_result"
    },
    {
     "data": {
      "image/png": "[encoded data removed]",
      "text/plain": [
       "<Figure size 640x480 with 1 Axes>"
      ]
     },
     "metadata": {},
     "output_type": "display_data"
    }
   ],
   "source": [
    "plt.plot(epoch_val_acc,label='val_acc')\n",
    "plt.xlabel('Epoch')\n",
    "plt.ylabel('Acc')\n",
    "plt.title('Val. Acc over Epochs')\n",
    "plt.show"
   ]
  },
  {
   "cell_type": "code",
   "execution_count": 14,
   "metadata": {},
   "outputs": [
    {
     "name": "stdout",
     "output_type": "stream",
     "text": [
      "Test Error: \n",
      " Accuracy: 97.4%, Avg loss: 0.101349 \n",
      "\n"
     ]
    }
   ],
   "source": [
    "test(test_loader, model, loss_fn)"
   ]
  },
  {
   "cell_type": "code",
   "execution_count": 15,
   "metadata": {},
   "outputs": [
    {
     "name": "stdout",
     "output_type": "stream",
     "text": [
      "Saved PyTorch Model State to enhancedcnn-w-bn.pth\n"
     ]
    }
   ],
   "source": [
    "\n",
    "model_name = \"enhancedcnn-w-bn\"\n",
    "torch.save(model.state_dict(), model_name + \".pth\")\n",
    "print(f\"Saved PyTorch Model State to {model_name}.pth\")"
   ]
  }
 ],
 "metadata": {
  "kernelspec": {
   "display_name": "Python 3",
   "language": "python",
   "name": "python3"
  },
  "language_info": {
   "codemirror_mode": {
    "name": "ipython",
    "version": 3
   },
   "file_extension": ".py",
   "mimetype": "text/x-python",
   "name": "python",
   "nbconvert_exporter": "python",
   "pygments_lexer": "ipython3",
   "version": "3.11.4"
  }
 },
 "nbformat": 4,
 "nbformat_minor": 2
}

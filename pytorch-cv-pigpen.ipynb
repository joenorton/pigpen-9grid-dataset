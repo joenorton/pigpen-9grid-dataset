{
 "cells": [
  {
   "cell_type": "markdown",
   "metadata": {},
   "source": [
    "# Pigpen PyTorch Example\n",
    "by Joe Norton"
   ]
  },
  {
   "cell_type": "code",
   "execution_count": 130,
   "metadata": {},
   "outputs": [],
   "source": [
    "import torch\n",
    "import torchvision\n",
    "import torchvision.transforms as transforms\n",
    "import torch.nn as nn\n",
    "import torch.nn.functional as F\n",
    "import torch.optim as optim"
   ]
  },
  {
   "cell_type": "code",
   "execution_count": 131,
   "metadata": {},
   "outputs": [],
   "source": [
    "import random\n",
    "from PigpenDataset import PigpenDatasetClass\n"
   ]
  },
  {
   "cell_type": "code",
   "execution_count": 132,
   "metadata": {},
   "outputs": [],
   "source": [
    "transform = transforms.Compose([\n",
    "    transforms.ToTensor(),\n",
    "    #transforms.Normalize((0.5,), (0.5,))  # Example normalization\n",
    "])\n",
    "\n",
    "train_dataset = PigpenDatasetClass('train', transform=transform)\n",
    "test_dataset = PigpenDatasetClass('test', transform=transform)\n",
    "valid_dataset = PigpenDatasetClass('validation', transform=transform)\n",
    "\n",
    "train_loader = torch.utils.data.DataLoader(train_dataset, batch_size=28, shuffle=True)\n",
    "test_loader = torch.utils.data.DataLoader(test_dataset, batch_size=28, shuffle=False)\n",
    "valid_loader = torch.utils.data.DataLoader(valid_dataset, batch_size=28, shuffle=False)"
   ]
  },
  {
   "cell_type": "code",
   "execution_count": 133,
   "metadata": {},
   "outputs": [
    {
     "data": {
      "text/plain": [
       "(53974, 13500, 13500)"
      ]
     },
     "execution_count": 133,
     "metadata": {},
     "output_type": "execute_result"
    }
   ],
   "source": [
    "len(train_dataset), len(test_dataset), len(valid_dataset)"
   ]
  },
  {
   "cell_type": "code",
   "execution_count": 134,
   "metadata": {},
   "outputs": [
    {
     "name": "stdout",
     "output_type": "stream",
     "text": [
      "Using cpu device\n"
     ]
    }
   ],
   "source": [
    "# Get cpu, gpu or mps device for training.\n",
    "device = (\n",
    "    \"cuda\"\n",
    "    if torch.cuda.is_available()\n",
    "    else \"mps\"\n",
    "    if torch.backends.mps.is_available()\n",
    "    else \"cpu\"\n",
    ")\n",
    "print(f\"Using {device} device\")\n",
    "\n",
    "class SimpleCNN(nn.Module):\n",
    "    def __init__(self):\n",
    "        super(SimpleCNN, self).__init__()\n",
    "        self.flatten = nn.Flatten()\n",
    "        self.conv_relu_stack = nn.Sequential(\n",
    "            nn.Conv2d(1, 32, kernel_size=5, stride=1, padding=\"same\"),\n",
    "            nn.ReLU(),\n",
    "            nn.MaxPool2d(2),\n",
    "            nn.Conv2d(32, 64, kernel_size=5, stride=1, padding=\"same\"),\n",
    "            nn.ReLU(),\n",
    "            nn.MaxPool2d(2)\n",
    "        )\n",
    "        # Adjust these sizes based on your actual output from convolutions\n",
    "        self.linear_layers = nn.Sequential(\n",
    "            nn.Linear(1024, 256),  # Adjust size according to output\n",
    "            nn.ReLU(),\n",
    "            nn.Linear(256, 28)  # 28 output classes\n",
    "        )\n",
    "\n",
    "    def forward(self, x):\n",
    "        x = self.conv_relu_stack(x)\n",
    "        x = self.flatten(x)  # Flatten the tensor\n",
    "        x = self.linear_layers(x)\n",
    "        return x\n"
   ]
  },
  {
   "cell_type": "code",
   "execution_count": 135,
   "metadata": {},
   "outputs": [],
   "source": [
    "\n",
    "# Create the network, define a loss function, and optimizer\n",
    "model = SimpleCNN()\n",
    "loss_fn = nn.CrossEntropyLoss()\n",
    "optimizer = optim.SGD(net.parameters(), lr=0.01, momentum=0.9)\n",
    "\n",
    "def train(dataloader, model, loss_fn, optimizer):\n",
    "    size = len(dataloader.dataset)\n",
    "    model.train()\n",
    "    for batch, (X, y) in enumerate(dataloader):\n",
    "        X, y = X.to(device), y.to(device)\n",
    "\n",
    "        # Compute prediction error\n",
    "        pred = model(X)\n",
    "        loss = loss_fn(pred, y)\n",
    "\n",
    "        # Backpropagation\n",
    "        loss.backward()\n",
    "        optimizer.step()\n",
    "        optimizer.zero_grad()\n",
    "\n",
    "        if batch % 100 == 0:\n",
    "            loss, current = loss.item(), (batch + 1) * len(X)\n",
    "            print(f\"loss: {loss:>7f}  [{current:>5d}/{size:>5d}]\")\n",
    "        \n",
    "def test(dataloader, model, loss_fn):\n",
    "    size = len(dataloader.dataset)\n",
    "    num_batches = len(dataloader)\n",
    "    model.eval()\n",
    "    test_loss, correct = 0, 0\n",
    "    with torch.no_grad():\n",
    "        for X, y in dataloader:\n",
    "            X, y = X.to(device), y.to(device)\n",
    "            pred = model(X)\n",
    "            test_loss += loss_fn(pred, y).item()\n",
    "            correct += (pred.argmax(1) == y).type(torch.float).sum().item()\n",
    "    test_loss /= num_batches\n",
    "    correct /= size\n",
    "    print(f\"Test Error: \\n Accuracy: {(100*correct):>0.1f}%, Avg loss: {test_loss:>8f} \\n\")"
   ]
  },
  {
   "cell_type": "code",
   "execution_count": 136,
   "metadata": {},
   "outputs": [
    {
     "name": "stdout",
     "output_type": "stream",
     "text": [
      "Epoch 1\n",
      "-------------------------------\n",
      "loss: 3.338125  [   28/53974]\n",
      "loss: 3.317742  [ 2828/53974]\n",
      "loss: 3.334797  [ 5628/53974]\n",
      "loss: 3.334310  [ 8428/53974]\n",
      "loss: 3.328131  [11228/53974]\n",
      "loss: 3.331836  [14028/53974]\n",
      "loss: 3.343597  [16828/53974]\n",
      "loss: 3.331254  [19628/53974]\n",
      "loss: 3.328030  [22428/53974]\n",
      "loss: 3.331958  [25228/53974]\n",
      "loss: 3.326385  [28028/53974]\n",
      "loss: 3.335490  [30828/53974]\n",
      "loss: 3.320841  [33628/53974]\n",
      "loss: 3.334291  [36428/53974]\n",
      "loss: 3.327642  [39228/53974]\n",
      "loss: 3.335960  [42028/53974]\n",
      "loss: 3.331970  [44828/53974]\n",
      "loss: 3.340864  [47628/53974]\n",
      "loss: 3.321266  [50428/53974]\n",
      "loss: 3.325703  [53228/53974]\n",
      "Test Error: \n",
      " Accuracy: 3.7%, Avg loss: 3.332238 \n",
      "\n",
      "Epoch 2\n",
      "-------------------------------\n",
      "loss: 3.356669  [   28/53974]\n",
      "loss: 3.336406  [ 2828/53974]\n",
      "loss: 3.337413  [ 5628/53974]\n",
      "loss: 3.332506  [ 8428/53974]\n",
      "loss: 3.332839  [11228/53974]\n",
      "loss: 3.319923  [14028/53974]\n",
      "loss: 3.326802  [16828/53974]\n",
      "loss: 3.335852  [19628/53974]\n",
      "loss: 3.340643  [22428/53974]\n",
      "loss: 3.344910  [25228/53974]\n",
      "loss: 3.330415  [28028/53974]\n",
      "loss: 3.336094  [30828/53974]\n",
      "loss: 3.325882  [33628/53974]\n",
      "loss: 3.317634  [36428/53974]\n",
      "loss: 3.324123  [39228/53974]\n",
      "loss: 3.342052  [42028/53974]\n",
      "loss: 3.332559  [44828/53974]\n",
      "loss: 3.352972  [47628/53974]\n",
      "loss: 3.342537  [50428/53974]\n",
      "loss: 3.331939  [53228/53974]\n",
      "Test Error: \n",
      " Accuracy: 3.7%, Avg loss: 3.332238 \n",
      "\n",
      "Epoch 3\n",
      "-------------------------------\n",
      "loss: 3.337269  [   28/53974]\n",
      "loss: 3.318011  [ 2828/53974]\n",
      "loss: 3.334674  [ 5628/53974]\n",
      "loss: 3.321374  [ 8428/53974]\n",
      "loss: 3.339712  [11228/53974]\n",
      "loss: 3.335863  [14028/53974]\n",
      "loss: 3.332987  [16828/53974]\n",
      "loss: 3.337176  [19628/53974]\n",
      "loss: 3.340063  [22428/53974]\n",
      "loss: 3.315431  [25228/53974]\n",
      "loss: 3.316209  [28028/53974]\n",
      "loss: 3.329929  [30828/53974]\n",
      "loss: 3.333632  [33628/53974]\n",
      "loss: 3.316664  [36428/53974]\n",
      "loss: 3.328043  [39228/53974]\n",
      "loss: 3.334949  [42028/53974]\n",
      "loss: 3.348911  [44828/53974]\n",
      "loss: 3.342556  [47628/53974]\n",
      "loss: 3.327179  [50428/53974]\n",
      "loss: 3.338969  [53228/53974]\n",
      "Test Error: \n",
      " Accuracy: 3.7%, Avg loss: 3.332238 \n",
      "\n",
      "Epoch 4\n",
      "-------------------------------\n",
      "loss: 3.348419  [   28/53974]\n",
      "loss: 3.315089  [ 2828/53974]\n",
      "loss: 3.334085  [ 5628/53974]\n",
      "loss: 3.330113  [ 8428/53974]\n",
      "loss: 3.323009  [11228/53974]\n",
      "loss: 3.321096  [14028/53974]\n",
      "loss: 3.327473  [16828/53974]\n",
      "loss: 3.338807  [19628/53974]\n",
      "loss: 3.329678  [22428/53974]\n",
      "loss: 3.329210  [25228/53974]\n",
      "loss: 3.338652  [28028/53974]\n",
      "loss: 3.326219  [30828/53974]\n",
      "loss: 3.329470  [33628/53974]\n",
      "loss: 3.328666  [36428/53974]\n",
      "loss: 3.334824  [39228/53974]\n",
      "loss: 3.347850  [42028/53974]\n",
      "loss: 3.322833  [44828/53974]\n",
      "loss: 3.347745  [47628/53974]\n",
      "loss: 3.320517  [50428/53974]\n",
      "loss: 3.338329  [53228/53974]\n",
      "Test Error: \n",
      " Accuracy: 3.7%, Avg loss: 3.332238 \n",
      "\n",
      "Epoch 5\n",
      "-------------------------------\n",
      "loss: 3.314696  [   28/53974]\n",
      "loss: 3.341600  [ 2828/53974]\n",
      "loss: 3.332015  [ 5628/53974]\n",
      "loss: 3.338427  [ 8428/53974]\n",
      "loss: 3.344257  [11228/53974]\n",
      "loss: 3.323994  [14028/53974]\n",
      "loss: 3.338802  [16828/53974]\n",
      "loss: 3.340485  [19628/53974]\n",
      "loss: 3.337087  [22428/53974]\n",
      "loss: 3.336108  [25228/53974]\n",
      "loss: 3.321178  [28028/53974]\n",
      "loss: 3.321188  [30828/53974]\n",
      "loss: 3.326801  [33628/53974]\n",
      "loss: 3.327041  [36428/53974]\n",
      "loss: 3.343734  [39228/53974]\n",
      "loss: 3.339289  [42028/53974]\n",
      "loss: 3.341119  [44828/53974]\n",
      "loss: 3.324968  [47628/53974]\n",
      "loss: 3.333673  [50428/53974]\n",
      "loss: 3.323600  [53228/53974]\n",
      "Test Error: \n",
      " Accuracy: 3.7%, Avg loss: 3.332238 \n",
      "\n",
      "Done!\n"
     ]
    }
   ],
   "source": [
    "epochs = 5\n",
    "for t in range(epochs):\n",
    "    print(f\"Epoch {t+1}\\n-------------------------------\")\n",
    "    train(train_loader, model, loss_fn, optimizer)\n",
    "    test(valid_loader, model, loss_fn)\n",
    "print(\"Done!\")"
   ]
  },
  {
   "cell_type": "code",
   "execution_count": 137,
   "metadata": {},
   "outputs": [
    {
     "name": "stdout",
     "output_type": "stream",
     "text": [
      "Test Error: \n",
      " Accuracy: 3.7%, Avg loss: 3.332134 \n",
      "\n"
     ]
    }
   ],
   "source": [
    "test(test_loader, model, loss_fn)"
   ]
  }
 ],
 "metadata": {
  "kernelspec": {
   "display_name": "Python 3",
   "language": "python",
   "name": "python3"
  },
  "language_info": {
   "codemirror_mode": {
    "name": "ipython",
    "version": 3
   },
   "file_extension": ".py",
   "mimetype": "text/x-python",
   "name": "python",
   "nbconvert_exporter": "python",
   "pygments_lexer": "ipython3",
   "version": "3.11.4"
  }
 },
 "nbformat": 4,
 "nbformat_minor": 2
}

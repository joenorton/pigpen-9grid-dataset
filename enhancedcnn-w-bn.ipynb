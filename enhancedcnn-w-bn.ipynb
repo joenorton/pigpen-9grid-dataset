{
 "cells": [
  {
   "cell_type": "markdown",
   "metadata": {},
   "source": [
    "# Pigpen PyTorch Example\n",
    "by Joe Norton"
   ]
  },
  {
   "cell_type": "code",
   "execution_count": 1,
   "metadata": {},
   "outputs": [],
   "source": [
    "import torch\n",
    "import torchvision\n",
    "import torchvision.transforms as transforms\n",
    "import torch.nn as nn\n",
    "import torch.nn.functional as F\n",
    "import torch.optim as optim"
   ]
  },
  {
   "cell_type": "code",
   "execution_count": 2,
   "metadata": {},
   "outputs": [],
   "source": [
    "import random\n",
    "from PigpenDataset import PigpenDatasetClass\n"
   ]
  },
  {
   "cell_type": "code",
   "execution_count": 3,
   "metadata": {},
   "outputs": [],
   "source": [
    "transform = transforms.Compose([\n",
    "    transforms.ToTensor(),\n",
    "    #transforms.Normalize((0.5,), (0.5,))  # Example normalization\n",
    "])\n",
    "\n",
    "train_dataset = PigpenDatasetClass('data/train', transform=transform)\n",
    "test_dataset = PigpenDatasetClass('data/test', transform=transform)\n",
    "valid_dataset = PigpenDatasetClass('data/validation', transform=transform)\n",
    "\n",
    "train_loader = torch.utils.data.DataLoader(train_dataset, batch_size=27, shuffle=True)\n",
    "test_loader = torch.utils.data.DataLoader(test_dataset, batch_size=27, shuffle=False)\n",
    "valid_loader = torch.utils.data.DataLoader(valid_dataset, batch_size=27, shuffle=False)\n"
   ]
  },
  {
   "cell_type": "code",
   "execution_count": 4,
   "metadata": {},
   "outputs": [
    {
     "data": {
      "text/plain": [
       "(54000, 10800, 10800)"
      ]
     },
     "execution_count": 4,
     "metadata": {},
     "output_type": "execute_result"
    }
   ],
   "source": [
    "len(train_dataset), len(test_dataset), len(valid_dataset)"
   ]
  },
  {
   "cell_type": "code",
   "execution_count": 5,
   "metadata": {},
   "outputs": [
    {
     "name": "stdout",
     "output_type": "stream",
     "text": [
      "Using cuda device\n",
      "EnhancedCNN(\n",
      "  (flatten): Flatten(start_dim=1, end_dim=-1)\n",
      "  (conv_relu_pool_stack): Sequential(\n",
      "    (0): Conv2d(1, 32, kernel_size=(5, 5), stride=(1, 1), padding=same)\n",
      "    (1): ReLU()\n",
      "    (2): BatchNorm2d(32, eps=1e-05, momentum=0.1, affine=True, track_running_stats=True)\n",
      "    (3): MaxPool2d(kernel_size=2, stride=2, padding=0, dilation=1, ceil_mode=False)\n",
      "    (4): Dropout2d(p=0.1, inplace=False)\n",
      "    (5): Conv2d(32, 64, kernel_size=(5, 5), stride=(1, 1), padding=same)\n",
      "    (6): ReLU()\n",
      "    (7): BatchNorm2d(64, eps=1e-05, momentum=0.1, affine=True, track_running_stats=True)\n",
      "    (8): MaxPool2d(kernel_size=2, stride=2, padding=0, dilation=1, ceil_mode=False)\n",
      "    (9): Dropout2d(p=0.2, inplace=False)\n",
      "    (10): Conv2d(64, 128, kernel_size=(5, 5), stride=(1, 1), padding=same)\n",
      "    (11): ReLU()\n",
      "    (12): BatchNorm2d(128, eps=1e-05, momentum=0.1, affine=True, track_running_stats=True)\n",
      "    (13): MaxPool2d(kernel_size=2, stride=2, padding=0, dilation=1, ceil_mode=False)\n",
      "    (14): Dropout2d(p=0.4, inplace=False)\n",
      "  )\n",
      "  (linear_layers): Sequential(\n",
      "    (0): Linear(in_features=1152, out_features=256, bias=True)\n",
      "    (1): ReLU()\n",
      "    (2): Linear(in_features=256, out_features=28, bias=True)\n",
      "  )\n",
      ")\n"
     ]
    }
   ],
   "source": [
    "import torch.nn as nn\n",
    "import torch.nn.functional as F\n",
    "\n",
    "# Get cpu, gpu or mps device for training.\n",
    "device = (\n",
    "    \"cuda\"\n",
    "    if torch.cuda.is_available()\n",
    "    else \"mps\"\n",
    "    if torch.backends.mps.is_available()\n",
    "    else \"cpu\"\n",
    ")\n",
    "print(f\"Using {device} device\")\n",
    "\n",
    "class EnhancedCNN(nn.Module):\n",
    "    def __init__(self):\n",
    "        super(EnhancedCNN, self).__init__()\n",
    "        self.flatten = nn.Flatten()\n",
    "        self.conv_relu_pool_stack = nn.Sequential(\n",
    "            nn.Conv2d(1, 32, kernel_size=5, stride=1, padding=\"same\"), #layer 1\n",
    "            nn.ReLU(),\n",
    "            nn.BatchNorm2d(32),\n",
    "            nn.MaxPool2d(2),\n",
    "            nn.Dropout2d(0.1),\n",
    "            nn.Conv2d(32, 64, kernel_size=5, stride=1, padding=\"same\"), #layer 2\n",
    "            nn.ReLU(),\n",
    "            nn.BatchNorm2d(64),\n",
    "            nn.MaxPool2d(2),\n",
    "            nn.Dropout2d(0.2),\n",
    "            nn.Conv2d(64, 128, kernel_size=5, stride=1, padding=\"same\"), #layer 3\n",
    "            nn.ReLU(),\n",
    "            nn.BatchNorm2d(128),\n",
    "            nn.MaxPool2d(2),\n",
    "            nn.Dropout2d(0.4)\n",
    "        )\n",
    "\n",
    "        # Adjust these sizes based on your actual output from convolutions\n",
    "        self.linear_layers = nn.Sequential(\n",
    "            nn.Linear(1152, 256),  # Adjust size according to output\n",
    "            nn.ReLU(),\n",
    "            nn.Linear(256, 28)  # 28 output classes\n",
    "        )\n",
    "\n",
    "\n",
    "    def forward(self, x):\n",
    "        x = self.conv_relu_pool_stack(x)\n",
    "        #print(x.size())\n",
    "        x = self.flatten(x)\n",
    "        x = self.linear_layers(x)\n",
    "        return x\n",
    "\n",
    "\n",
    "model = EnhancedCNN().to(device)\n",
    "print(model)\n"
   ]
  },
  {
   "cell_type": "code",
   "execution_count": 6,
   "metadata": {},
   "outputs": [],
   "source": [
    "\n",
    "# Create the network, define a loss function, and optimizer\n",
    "loss_fn = nn.CrossEntropyLoss()\n",
    "optimizer = optim.SGD(model.parameters(), lr=0.01, momentum=0.9)\n"
   ]
  },
  {
   "cell_type": "code",
   "execution_count": 7,
   "metadata": {},
   "outputs": [
    {
     "name": "stdout",
     "output_type": "stream",
     "text": [
      "Shape of X [N, C, H, W]: torch.Size([27, 1, 28, 28])\n",
      "Shape of y: torch.Size([27]) torch.int64\n"
     ]
    }
   ],
   "source": [
    "for X, y in test_loader:\n",
    "    print(f\"Shape of X [N, C, H, W]: {X.shape}\")\n",
    "    print(f\"Shape of y: {y.shape} {y.dtype}\")\n",
    "    break"
   ]
  },
  {
   "cell_type": "code",
   "execution_count": 8,
   "metadata": {},
   "outputs": [],
   "source": [
    "#stat accumulators\n",
    "epoch_val_loss = []\n",
    "epoch_val_acc = []"
   ]
  },
  {
   "cell_type": "code",
   "execution_count": 9,
   "metadata": {},
   "outputs": [],
   "source": [
    "def train(dataloader, model, loss_fn, optimizer):\n",
    "    size = len(dataloader.dataset)\n",
    "    model.train()\n",
    "    for batch, (X, y) in enumerate(dataloader):\n",
    "        X, y = X.to(device), y.to(device)\n",
    "\n",
    "        # Compute prediction error\n",
    "        pred = model(X)\n",
    "        loss = loss_fn(pred, y)\n",
    "\n",
    "        # Backpropagation\n",
    "        loss.backward()\n",
    "        optimizer.step()\n",
    "        optimizer.zero_grad()\n",
    "\n",
    "        if batch % 100 == 0:\n",
    "            loss, current = loss.item(), (batch + 1) * len(X)\n",
    "            print(f\"loss: {loss:>7f}  [{current:>5d}/{size:>5d}]\")"
   ]
  },
  {
   "cell_type": "code",
   "execution_count": 10,
   "metadata": {},
   "outputs": [],
   "source": [
    "def test(dataloader, model, loss_fn):\n",
    "    size = len(dataloader.dataset)\n",
    "    num_batches = len(dataloader)\n",
    "    model.eval()\n",
    "    test_loss, correct = 0, 0\n",
    "    with torch.no_grad():\n",
    "        for X, y in dataloader:\n",
    "            X, y = X.to(device), y.to(device)\n",
    "            pred = model(X)\n",
    "            test_loss += loss_fn(pred, y).item()\n",
    "            correct += (pred.argmax(1) == y).type(torch.float).sum().item()\n",
    "    test_loss /= num_batches\n",
    "    correct /= size\n",
    "    print(f\"Test Error: \\n Accuracy: {(100*correct):>0.1f}%, Avg loss: {test_loss:>8f} \\n\")\n",
    "    epoch_val_loss.append(test_loss)\n",
    "    epoch_val_acc.append((100*correct))"
   ]
  },
  {
   "cell_type": "code",
   "execution_count": 11,
   "metadata": {},
   "outputs": [
    {
     "name": "stdout",
     "output_type": "stream",
     "text": [
      "Epoch 1\n",
      "-------------------------------\n",
      "loss: 3.334863  [   27/54000]\n",
      "loss: 0.631843  [ 2727/54000]\n",
      "loss: 0.209247  [ 5427/54000]\n",
      "loss: 0.033577  [ 8127/54000]\n",
      "loss: 0.038529  [10827/54000]\n",
      "loss: 0.148228  [13527/54000]\n",
      "loss: 0.013778  [16227/54000]\n",
      "loss: 0.173256  [18927/54000]\n",
      "loss: 0.384544  [21627/54000]\n",
      "loss: 0.205059  [24327/54000]\n",
      "loss: 0.005640  [27027/54000]\n",
      "loss: 0.064951  [29727/54000]\n",
      "loss: 0.071819  [32427/54000]\n",
      "loss: 0.012642  [35127/54000]\n",
      "loss: 0.557476  [37827/54000]\n",
      "loss: 0.035171  [40527/54000]\n",
      "loss: 0.009803  [43227/54000]\n",
      "loss: 0.000303  [45927/54000]\n",
      "loss: 0.000971  [48627/54000]\n",
      "loss: 0.260488  [51327/54000]\n",
      "Test Error: \n",
      " Accuracy: 90.7%, Avg loss: 0.276774 \n",
      "\n",
      "Epoch 2\n",
      "-------------------------------\n",
      "loss: 0.000061  [   27/54000]\n",
      "loss: 0.003889  [ 2727/54000]\n",
      "loss: 0.002028  [ 5427/54000]\n",
      "loss: 0.002792  [ 8127/54000]\n",
      "loss: 0.002052  [10827/54000]\n",
      "loss: 0.000388  [13527/54000]\n",
      "loss: 0.021649  [16227/54000]\n",
      "loss: 0.000017  [18927/54000]\n",
      "loss: 0.000056  [21627/54000]\n",
      "loss: 0.002406  [24327/54000]\n",
      "loss: 0.000278  [27027/54000]\n",
      "loss: 0.000255  [29727/54000]\n",
      "loss: 0.000241  [32427/54000]\n",
      "loss: 0.000040  [35127/54000]\n",
      "loss: 0.000084  [37827/54000]\n",
      "loss: 0.000198  [40527/54000]\n",
      "loss: 0.000091  [43227/54000]\n",
      "loss: 0.000166  [45927/54000]\n",
      "loss: 0.007093  [48627/54000]\n",
      "loss: 0.000176  [51327/54000]\n",
      "Test Error: \n",
      " Accuracy: 97.0%, Avg loss: 0.105526 \n",
      "\n",
      "Epoch 3\n",
      "-------------------------------\n",
      "loss: 0.035027  [   27/54000]\n",
      "loss: 0.000064  [ 2727/54000]\n",
      "loss: 0.000108  [ 5427/54000]\n",
      "loss: 0.000079  [ 8127/54000]\n",
      "loss: 0.000038  [10827/54000]\n",
      "loss: 0.000086  [13527/54000]\n",
      "loss: 0.000006  [16227/54000]\n",
      "loss: 0.000034  [18927/54000]\n",
      "loss: 0.000201  [21627/54000]\n",
      "loss: 0.085790  [24327/54000]\n",
      "loss: 0.000096  [27027/54000]\n",
      "loss: 0.000208  [29727/54000]\n",
      "loss: 0.001181  [32427/54000]\n",
      "loss: 0.000041  [35127/54000]\n",
      "loss: 0.001822  [37827/54000]\n",
      "loss: 0.206258  [40527/54000]\n",
      "loss: 0.000528  [43227/54000]\n",
      "loss: 0.000036  [45927/54000]\n",
      "loss: 0.000304  [48627/54000]\n",
      "loss: 0.055937  [51327/54000]\n",
      "Test Error: \n",
      " Accuracy: 97.0%, Avg loss: 0.114156 \n",
      "\n",
      "Epoch 4\n",
      "-------------------------------\n",
      "loss: 0.000215  [   27/54000]\n",
      "loss: 0.000013  [ 2727/54000]\n",
      "loss: 0.001752  [ 5427/54000]\n",
      "loss: 0.035403  [ 8127/54000]\n",
      "loss: 0.003462  [10827/54000]\n",
      "loss: 0.000262  [13527/54000]\n",
      "loss: 0.000678  [16227/54000]\n",
      "loss: 0.000213  [18927/54000]\n",
      "loss: 0.000035  [21627/54000]\n",
      "loss: 0.000010  [24327/54000]\n",
      "loss: 0.000009  [27027/54000]\n",
      "loss: 0.000337  [29727/54000]\n",
      "loss: 0.000075  [32427/54000]\n",
      "loss: 0.001053  [35127/54000]\n",
      "loss: 0.000285  [37827/54000]\n",
      "loss: 0.000098  [40527/54000]\n",
      "loss: 0.000076  [43227/54000]\n",
      "loss: 0.000550  [45927/54000]\n",
      "loss: 0.000061  [48627/54000]\n",
      "loss: 0.000153  [51327/54000]\n",
      "Test Error: \n",
      " Accuracy: 98.3%, Avg loss: 0.059211 \n",
      "\n",
      "Epoch 5\n",
      "-------------------------------\n",
      "loss: 0.001568  [   27/54000]\n",
      "loss: 0.000012  [ 2727/54000]\n",
      "loss: 0.000018  [ 5427/54000]\n",
      "loss: 0.000018  [ 8127/54000]\n",
      "loss: 0.000011  [10827/54000]\n",
      "loss: 0.000009  [13527/54000]\n",
      "loss: 0.000010  [16227/54000]\n",
      "loss: 0.001917  [18927/54000]\n",
      "loss: 0.000004  [21627/54000]\n",
      "loss: 0.000119  [24327/54000]\n",
      "loss: 0.000147  [27027/54000]\n",
      "loss: 0.015059  [29727/54000]\n",
      "loss: 0.004564  [32427/54000]\n",
      "loss: 0.000062  [35127/54000]\n",
      "loss: 0.000159  [37827/54000]\n",
      "loss: 0.000024  [40527/54000]\n",
      "loss: 0.000011  [43227/54000]\n",
      "loss: 0.000148  [45927/54000]\n",
      "loss: 0.000010  [48627/54000]\n",
      "loss: 0.000023  [51327/54000]\n",
      "Test Error: \n",
      " Accuracy: 98.2%, Avg loss: 0.063972 \n",
      "\n",
      "Done!\n"
     ]
    }
   ],
   "source": [
    "epochs = 5\n",
    "for t in range(epochs):\n",
    "    print(f\"Epoch {t+1}\\n-------------------------------\")\n",
    "    train(train_loader, model, loss_fn, optimizer)\n",
    "    test(valid_loader, model, loss_fn)\n",
    "print(\"Done!\")"
   ]
  },
  {
   "cell_type": "code",
   "execution_count": 12,
   "metadata": {},
   "outputs": [
    {
     "data": {
      "text/plain": [
       "<function matplotlib.pyplot.show(close=None, block=None)>"
      ]
     },
     "execution_count": 12,
     "metadata": {},
     "output_type": "execute_result"
    },
    {
     "data": {
      "image/png": "[encoded data removed]",
      "text/plain": [
       "<Figure size 640x480 with 1 Axes>"
      ]
     },
     "metadata": {},
     "output_type": "display_data"
    }
   ],
   "source": [
    "from matplotlib import pyplot as plt\n",
    "plt.plot(epoch_val_loss, label='val_loss')\n",
    "plt.xlabel('Epoch')\n",
    "plt.ylabel('Loss')\n",
    "plt.title('Val. Loss over Epochs')\n",
    "plt.show"
   ]
  },
  {
   "cell_type": "code",
   "execution_count": 13,
   "metadata": {},
   "outputs": [
    {
     "data": {
      "text/plain": [
       "<function matplotlib.pyplot.show(close=None, block=None)>"
      ]
     },
     "execution_count": 13,
     "metadata": {},
     "output_type": "execute_result"
    },
    {
     "data": {
      "image/png": "[encoded data removed]",
      "text/plain": [
       "<Figure size 640x480 with 1 Axes>"
      ]
     },
     "metadata": {},
     "output_type": "display_data"
    }
   ],
   "source": [
    "plt.plot(epoch_val_acc,label='val_acc')\n",
    "plt.xlabel('Epoch')\n",
    "plt.ylabel('Acc')\n",
    "plt.title('Val. Acc over Epochs')\n",
    "plt.show"
   ]
  },
  {
   "cell_type": "code",
   "execution_count": 14,
   "metadata": {},
   "outputs": [
    {
     "name": "stdout",
     "output_type": "stream",
     "text": [
      "Test Error: \n",
      " Accuracy: 98.3%, Avg loss: 0.069696 \n",
      "\n"
     ]
    }
   ],
   "source": [
    "test(test_loader, model, loss_fn)"
   ]
  },
  {
   "cell_type": "code",
   "execution_count": 15,
   "metadata": {},
   "outputs": [
    {
     "name": "stdout",
     "output_type": "stream",
     "text": [
      "Saved PyTorch Model State to enhancedcnn-w-bn.pth\n"
     ]
    }
   ],
   "source": [
    "\n",
    "model_name = \"enhancedcnn-w-bn\"\n",
    "torch.save(model.state_dict(), model_name + \".pth\")\n",
    "print(f\"Saved PyTorch Model State to {model_name}.pth\")"
   ]
  }
 ],
 "metadata": {
  "kernelspec": {
   "display_name": "Python 3",
   "language": "python",
   "name": "python3"
  },
  "language_info": {
   "codemirror_mode": {
    "name": "ipython",
    "version": 3
   },
   "file_extension": ".py",
   "mimetype": "text/x-python",
   "name": "python",
   "nbconvert_exporter": "python",
   "pygments_lexer": "ipython3",
   "version": "3.11.4"
  }
 },
 "nbformat": 4,
 "nbformat_minor": 2
}

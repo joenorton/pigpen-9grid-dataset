{
 "cells": [
  {
   "cell_type": "markdown",
   "metadata": {},
   "source": [
    "# Pigpen PyTorch Example\n",
    "by Joe Norton"
   ]
  },
  {
   "cell_type": "code",
   "execution_count": 31,
   "metadata": {},
   "outputs": [],
   "source": [
    "import torch\n",
    "import torchvision\n",
    "import torchvision.transforms as transforms\n",
    "import torch.nn as nn\n",
    "import torch.nn.functional as F\n",
    "import torch.optim as optim"
   ]
  },
  {
   "cell_type": "code",
   "execution_count": 32,
   "metadata": {},
   "outputs": [],
   "source": [
    "import random\n",
    "from PigpenDataset import PigpenDatasetClass\n"
   ]
  },
  {
   "cell_type": "code",
   "execution_count": 33,
   "metadata": {},
   "outputs": [],
   "source": [
    "transform = transforms.Compose([\n",
    "    transforms.ToTensor(),\n",
    "    #transforms.Normalize((0.5,), (0.5,))  # Example normalization\n",
    "])\n",
    "\n",
    "train_dataset = PigpenDatasetClass('data/train', transform=transform)\n",
    "test_dataset = PigpenDatasetClass('data/test', transform=transform)\n",
    "valid_dataset = PigpenDatasetClass('data/validation', transform=transform)\n",
    "\n",
    "train_loader = torch.utils.data.DataLoader(train_dataset, batch_size=27, shuffle=True)\n",
    "test_loader = torch.utils.data.DataLoader(test_dataset, batch_size=27, shuffle=False)\n",
    "valid_loader = torch.utils.data.DataLoader(valid_dataset, batch_size=27, shuffle=False)\n"
   ]
  },
  {
   "cell_type": "code",
   "execution_count": 34,
   "metadata": {},
   "outputs": [
    {
     "data": {
      "text/plain": [
       "(54000, 10800, 10800)"
      ]
     },
     "execution_count": 34,
     "metadata": {},
     "output_type": "execute_result"
    }
   ],
   "source": [
    "len(train_dataset), len(test_dataset), len(valid_dataset)"
   ]
  },
  {
   "cell_type": "code",
   "execution_count": 35,
   "metadata": {},
   "outputs": [
    {
     "name": "stdout",
     "output_type": "stream",
     "text": [
      "Using cuda device\n",
      "EnhancedCNN(\n",
      "  (flatten): Flatten(start_dim=1, end_dim=-1)\n",
      "  (conv_relu_pool_stack): Sequential(\n",
      "    (0): Conv2d(1, 32, kernel_size=(5, 5), stride=(1, 1), padding=same)\n",
      "    (1): ReLU()\n",
      "    (2): MaxPool2d(kernel_size=2, stride=2, padding=0, dilation=1, ceil_mode=False)\n",
      "    (3): Dropout2d(p=0.1, inplace=False)\n",
      "    (4): Conv2d(32, 64, kernel_size=(5, 5), stride=(1, 1), padding=same)\n",
      "    (5): ReLU()\n",
      "    (6): MaxPool2d(kernel_size=2, stride=2, padding=0, dilation=1, ceil_mode=False)\n",
      "    (7): Dropout2d(p=0.2, inplace=False)\n",
      "    (8): Conv2d(64, 128, kernel_size=(5, 5), stride=(1, 1), padding=same)\n",
      "    (9): ReLU()\n",
      "    (10): MaxPool2d(kernel_size=2, stride=2, padding=0, dilation=1, ceil_mode=False)\n",
      "    (11): Dropout2d(p=0.4, inplace=False)\n",
      "  )\n",
      "  (linear_layers): Sequential(\n",
      "    (0): Linear(in_features=1152, out_features=256, bias=True)\n",
      "    (1): ReLU()\n",
      "    (2): Linear(in_features=256, out_features=28, bias=True)\n",
      "  )\n",
      ")\n"
     ]
    }
   ],
   "source": [
    "import torch.nn as nn\n",
    "import torch.nn.functional as F\n",
    "\n",
    "# Get cpu, gpu or mps device for training.\n",
    "device = (\n",
    "    \"cuda\"\n",
    "    if torch.cuda.is_available()\n",
    "    else \"mps\"\n",
    "    if torch.backends.mps.is_available()\n",
    "    else \"cpu\"\n",
    ")\n",
    "print(f\"Using {device} device\")\n",
    "\n",
    "class EnhancedCNN(nn.Module):\n",
    "    def __init__(self):\n",
    "        super(EnhancedCNN, self).__init__()\n",
    "        self.flatten = nn.Flatten()\n",
    "        self.conv_relu_pool_stack = nn.Sequential(\n",
    "            nn.Conv2d(1, 32, kernel_size=5, stride=1, padding=\"same\"), #layer 1\n",
    "            nn.ReLU(),\n",
    "            nn.MaxPool2d(2),\n",
    "            nn.Dropout2d(0.1),\n",
    "            nn.Conv2d(32, 64, kernel_size=5, stride=1, padding=\"same\"), #layer 2\n",
    "            nn.ReLU(),\n",
    "            nn.MaxPool2d(2),\n",
    "            nn.Dropout2d(0.2),\n",
    "            nn.Conv2d(64, 128, kernel_size=5, stride=1, padding=\"same\"), #layer 3\n",
    "            nn.ReLU(),\n",
    "            nn.MaxPool2d(2),\n",
    "            nn.Dropout2d(0.4)\n",
    "        )\n",
    "\n",
    "        # Adjust these sizes based on your actual output from convolutions\n",
    "        self.linear_layers = nn.Sequential(\n",
    "            nn.Linear(1152, 256),  # Adjust size according to output\n",
    "            nn.ReLU(),\n",
    "            nn.Linear(256, 28)  # 28 output classes\n",
    "        )\n",
    "\n",
    "\n",
    "    def forward(self, x):\n",
    "        x = self.conv_relu_pool_stack(x)\n",
    "        #print(x.size())\n",
    "        x = self.flatten(x)\n",
    "        x = self.linear_layers(x)\n",
    "        return x\n",
    "\n",
    "\n",
    "model = EnhancedCNN().to(device)\n",
    "print(model)\n"
   ]
  },
  {
   "cell_type": "code",
   "execution_count": 36,
   "metadata": {},
   "outputs": [],
   "source": [
    "\n",
    "# Create the network, define a loss function, and optimizer\n",
    "loss_fn = nn.CrossEntropyLoss()\n",
    "optimizer = optim.SGD(model.parameters(), lr=0.01, momentum=0.9)\n"
   ]
  },
  {
   "cell_type": "code",
   "execution_count": 37,
   "metadata": {},
   "outputs": [
    {
     "name": "stdout",
     "output_type": "stream",
     "text": [
      "Shape of X [N, C, H, W]: torch.Size([27, 1, 28, 28])\n",
      "Shape of y: torch.Size([27]) torch.int64\n"
     ]
    }
   ],
   "source": [
    "for X, y in test_loader:\n",
    "    print(f\"Shape of X [N, C, H, W]: {X.shape}\")\n",
    "    print(f\"Shape of y: {y.shape} {y.dtype}\")\n",
    "    break"
   ]
  },
  {
   "cell_type": "code",
   "execution_count": 38,
   "metadata": {},
   "outputs": [],
   "source": [
    "#stat accumulators\n",
    "epoch_val_loss = []\n",
    "epoch_val_acc = []"
   ]
  },
  {
   "cell_type": "code",
   "execution_count": 39,
   "metadata": {},
   "outputs": [],
   "source": [
    "def train(dataloader, model, loss_fn, optimizer):\n",
    "    size = len(dataloader.dataset)\n",
    "    model.train()\n",
    "    for batch, (X, y) in enumerate(dataloader):\n",
    "        X, y = X.to(device), y.to(device)\n",
    "\n",
    "        # Compute prediction error\n",
    "        pred = model(X)\n",
    "        loss = loss_fn(pred, y)\n",
    "\n",
    "        # Backpropagation\n",
    "        loss.backward()\n",
    "        optimizer.step()\n",
    "        optimizer.zero_grad()\n",
    "\n",
    "        if batch % 100 == 0:\n",
    "            loss, current = loss.item(), (batch + 1) * len(X)\n",
    "            print(f\"loss: {loss:>7f}  [{current:>5d}/{size:>5d}]\")"
   ]
  },
  {
   "cell_type": "code",
   "execution_count": 40,
   "metadata": {},
   "outputs": [],
   "source": [
    "def test(dataloader, model, loss_fn):\n",
    "    size = len(dataloader.dataset)\n",
    "    num_batches = len(dataloader)\n",
    "    model.eval()\n",
    "    test_loss, correct = 0, 0\n",
    "    with torch.no_grad():\n",
    "        for X, y in dataloader:\n",
    "            X, y = X.to(device), y.to(device)\n",
    "            pred = model(X)\n",
    "            test_loss += loss_fn(pred, y).item()\n",
    "            correct += (pred.argmax(1) == y).type(torch.float).sum().item()\n",
    "    test_loss /= num_batches\n",
    "    correct /= size\n",
    "    print(f\"Test Error: \\n Accuracy: {(100*correct):>0.1f}%, Avg loss: {test_loss:>8f} \\n\")\n",
    "    epoch_val_loss.append(test_loss)\n",
    "    epoch_val_acc.append((100*correct))"
   ]
  },
  {
   "cell_type": "code",
   "execution_count": 41,
   "metadata": {},
   "outputs": [
    {
     "name": "stdout",
     "output_type": "stream",
     "text": [
      "Epoch 1\n",
      "-------------------------------\n",
      "loss: 3.323123  [   27/54000]\n",
      "loss: 3.249580  [ 2727/54000]\n",
      "loss: 3.156485  [ 5427/54000]\n",
      "loss: 1.779803  [ 8127/54000]\n",
      "loss: 0.626158  [10827/54000]\n",
      "loss: 0.399012  [13527/54000]\n",
      "loss: 0.126099  [16227/54000]\n",
      "loss: 0.221397  [18927/54000]\n",
      "loss: 0.110485  [21627/54000]\n",
      "loss: 0.123309  [24327/54000]\n",
      "loss: 0.025113  [27027/54000]\n",
      "loss: 0.004997  [29727/54000]\n",
      "loss: 0.017817  [32427/54000]\n",
      "loss: 0.045886  [35127/54000]\n",
      "loss: 0.048795  [37827/54000]\n",
      "loss: 0.024929  [40527/54000]\n",
      "loss: 0.015125  [43227/54000]\n",
      "loss: 0.284034  [45927/54000]\n",
      "loss: 0.012388  [48627/54000]\n",
      "loss: 0.009032  [51327/54000]\n",
      "Test Error: \n",
      " Accuracy: 95.3%, Avg loss: 0.184813 \n",
      "\n",
      "Epoch 2\n",
      "-------------------------------\n",
      "loss: 0.009470  [   27/54000]\n",
      "loss: 0.000728  [ 2727/54000]\n",
      "loss: 0.005478  [ 5427/54000]\n",
      "loss: 0.237374  [ 8127/54000]\n",
      "loss: 0.007614  [10827/54000]\n",
      "loss: 0.133481  [13527/54000]\n",
      "loss: 0.024734  [16227/54000]\n",
      "loss: 0.000931  [18927/54000]\n",
      "loss: 0.060342  [21627/54000]\n",
      "loss: 0.000300  [24327/54000]\n",
      "loss: 0.000605  [27027/54000]\n",
      "loss: 0.000653  [29727/54000]\n",
      "loss: 0.001717  [32427/54000]\n",
      "loss: 0.001949  [35127/54000]\n",
      "loss: 0.005097  [37827/54000]\n",
      "loss: 0.047338  [40527/54000]\n",
      "loss: 0.045451  [43227/54000]\n",
      "loss: 0.000891  [45927/54000]\n",
      "loss: 0.000772  [48627/54000]\n",
      "loss: 0.000248  [51327/54000]\n",
      "Test Error: \n",
      " Accuracy: 94.1%, Avg loss: 0.195390 \n",
      "\n",
      "Epoch 3\n",
      "-------------------------------\n",
      "loss: 0.178935  [   27/54000]\n",
      "loss: 0.039242  [ 2727/54000]\n",
      "loss: 0.000218  [ 5427/54000]\n",
      "loss: 0.176422  [ 8127/54000]\n",
      "loss: 0.000459  [10827/54000]\n",
      "loss: 0.064974  [13527/54000]\n",
      "loss: 0.000503  [16227/54000]\n",
      "loss: 0.000364  [18927/54000]\n",
      "loss: 0.000153  [21627/54000]\n",
      "loss: 0.000149  [24327/54000]\n",
      "loss: 0.000400  [27027/54000]\n",
      "loss: 0.001183  [29727/54000]\n",
      "loss: 0.010090  [32427/54000]\n",
      "loss: 0.000170  [35127/54000]\n",
      "loss: 0.000307  [37827/54000]\n",
      "loss: 0.000105  [40527/54000]\n",
      "loss: 0.005187  [43227/54000]\n",
      "loss: 0.000804  [45927/54000]\n",
      "loss: 0.003420  [48627/54000]\n",
      "loss: 0.000724  [51327/54000]\n",
      "Test Error: \n",
      " Accuracy: 96.4%, Avg loss: 0.132877 \n",
      "\n",
      "Epoch 4\n",
      "-------------------------------\n",
      "loss: 0.000051  [   27/54000]\n",
      "loss: 0.000067  [ 2727/54000]\n",
      "loss: 0.000097  [ 5427/54000]\n",
      "loss: 0.007816  [ 8127/54000]\n",
      "loss: 0.002766  [10827/54000]\n",
      "loss: 0.116714  [13527/54000]\n",
      "loss: 0.007101  [16227/54000]\n",
      "loss: 0.000065  [18927/54000]\n",
      "loss: 0.000051  [21627/54000]\n",
      "loss: 0.003409  [24327/54000]\n",
      "loss: 0.000024  [27027/54000]\n",
      "loss: 0.000122  [29727/54000]\n",
      "loss: 0.000317  [32427/54000]\n",
      "loss: 0.000242  [35127/54000]\n",
      "loss: 0.000022  [37827/54000]\n",
      "loss: 0.018694  [40527/54000]\n",
      "loss: 0.000010  [43227/54000]\n",
      "loss: 0.000326  [45927/54000]\n",
      "loss: 0.000014  [48627/54000]\n",
      "loss: 0.000524  [51327/54000]\n",
      "Test Error: \n",
      " Accuracy: 96.1%, Avg loss: 0.135924 \n",
      "\n",
      "Epoch 5\n",
      "-------------------------------\n",
      "loss: 0.000367  [   27/54000]\n",
      "loss: 0.000008  [ 2727/54000]\n",
      "loss: 0.000936  [ 5427/54000]\n",
      "loss: 0.001238  [ 8127/54000]\n",
      "loss: 0.008543  [10827/54000]\n",
      "loss: 0.000031  [13527/54000]\n",
      "loss: 0.000887  [16227/54000]\n",
      "loss: 0.000201  [18927/54000]\n",
      "loss: 0.002107  [21627/54000]\n",
      "loss: 0.000007  [24327/54000]\n",
      "loss: 0.000940  [27027/54000]\n",
      "loss: 0.000330  [29727/54000]\n",
      "loss: 0.000244  [32427/54000]\n",
      "loss: 0.000000  [35127/54000]\n",
      "loss: 0.002853  [37827/54000]\n",
      "loss: 0.001030  [40527/54000]\n",
      "loss: 0.053728  [43227/54000]\n",
      "loss: 0.000297  [45927/54000]\n",
      "loss: 0.001123  [48627/54000]\n",
      "loss: 0.114487  [51327/54000]\n",
      "Test Error: \n",
      " Accuracy: 97.9%, Avg loss: 0.086936 \n",
      "\n",
      "Done!\n"
     ]
    }
   ],
   "source": [
    "epochs = 5\n",
    "for t in range(epochs):\n",
    "    print(f\"Epoch {t+1}\\n-------------------------------\")\n",
    "    train(train_loader, model, loss_fn, optimizer)\n",
    "    test(valid_loader, model, loss_fn)\n",
    "print(\"Done!\")"
   ]
  },
  {
   "cell_type": "code",
   "execution_count": 42,
   "metadata": {},
   "outputs": [
    {
     "data": {
      "text/plain": [
       "<function matplotlib.pyplot.show(close=None, block=None)>"
      ]
     },
     "execution_count": 42,
     "metadata": {},
     "output_type": "execute_result"
    },
    {
     "data": {
      "image/png": "[encoded data removed]",
      "text/plain": [
       "<Figure size 640x480 with 1 Axes>"
      ]
     },
     "metadata": {},
     "output_type": "display_data"
    }
   ],
   "source": [
    "from matplotlib import pyplot as plt\n",
    "plt.plot(epoch_val_loss, label='val_loss')\n",
    "plt.xlabel('Epoch')\n",
    "plt.ylabel('Loss')\n",
    "plt.title('Val. Loss over Epochs')\n",
    "plt.show"
   ]
  },
  {
   "cell_type": "code",
   "execution_count": 43,
   "metadata": {},
   "outputs": [
    {
     "data": {
      "text/plain": [
       "<function matplotlib.pyplot.show(close=None, block=None)>"
      ]
     },
     "execution_count": 43,
     "metadata": {},
     "output_type": "execute_result"
    },
    {
     "data": {
      "image/png": "[encoded data removed]",
      "text/plain": [
       "<Figure size 640x480 with 1 Axes>"
      ]
     },
     "metadata": {},
     "output_type": "display_data"
    }
   ],
   "source": [
    "plt.plot(epoch_val_acc,label='val_acc')\n",
    "plt.xlabel('Epoch')\n",
    "plt.ylabel('Acc')\n",
    "plt.title('Val. Acc over Epochs')\n",
    "plt.show"
   ]
  },
  {
   "cell_type": "code",
   "execution_count": 44,
   "metadata": {},
   "outputs": [
    {
     "name": "stdout",
     "output_type": "stream",
     "text": [
      "Test Error: \n",
      " Accuracy: 97.7%, Avg loss: 0.093874 \n",
      "\n"
     ]
    }
   ],
   "source": [
    "test(test_loader, model, loss_fn)"
   ]
  },
  {
   "cell_type": "code",
   "execution_count": 45,
   "metadata": {},
   "outputs": [
    {
     "name": "stdout",
     "output_type": "stream",
     "text": [
      "Saved PyTorch Model State to enahncedcnn-conv-relu-bn-pool-do-adj.pth\n"
     ]
    }
   ],
   "source": [
    "model_name = \"enahncedcnn\"\n",
    "torch.save(model.state_dict(), model_name + \".pth\")\n",
    "print(f\"Saved PyTorch Model State to {model_name}.pth\")"
   ]
  }
 ],
 "metadata": {
  "kernelspec": {
   "display_name": "Python 3",
   "language": "python",
   "name": "python3"
  },
  "language_info": {
   "codemirror_mode": {
    "name": "ipython",
    "version": 3
   },
   "file_extension": ".py",
   "mimetype": "text/x-python",
   "name": "python",
   "nbconvert_exporter": "python",
   "pygments_lexer": "ipython3",
   "version": "3.11.4"
  }
 },
 "nbformat": 4,
 "nbformat_minor": 2
}

{
 "cells": [
  {
   "cell_type": "markdown",
   "metadata": {},
   "source": [
    "# Pigpen PyTorch Example\n",
    "by Joe Norton"
   ]
  },
  {
   "cell_type": "code",
   "execution_count": 31,
   "metadata": {},
   "outputs": [],
   "source": [
    "import torch\n",
    "import torchvision\n",
    "import torchvision.transforms as transforms\n",
    "import torch.nn as nn\n",
    "import torch.nn.functional as F\n",
    "import torch.optim as optim"
   ]
  },
  {
   "cell_type": "code",
   "execution_count": 32,
   "metadata": {},
   "outputs": [],
   "source": [
    "import random\n",
    "from PigpenDataset import PigpenDatasetClass\n"
   ]
  },
  {
   "cell_type": "code",
   "execution_count": 33,
   "metadata": {},
   "outputs": [
    {
     "ename": "KeyboardInterrupt",
     "evalue": "",
     "output_type": "error",
     "traceback": [
      "\u001b[1;31m---------------------------------------------------------------------------\u001b[0m",
      "\u001b[1;31mKeyboardInterrupt\u001b[0m                         Traceback (most recent call last)",
      "Cell \u001b[1;32mIn[33], line 6\u001b[0m\n\u001b[0;32m      1\u001b[0m transform \u001b[38;5;241m=\u001b[39m transforms\u001b[38;5;241m.\u001b[39mCompose([\n\u001b[0;32m      2\u001b[0m     transforms\u001b[38;5;241m.\u001b[39mToTensor(),\n\u001b[0;32m      3\u001b[0m     \u001b[38;5;66;03m#transforms.Normalize((0.5,), (0.5,))  # Example normalization\u001b[39;00m\n\u001b[0;32m      4\u001b[0m ])\n\u001b[1;32m----> 6\u001b[0m train_dataset \u001b[38;5;241m=\u001b[39m \u001b[43mPigpenDatasetClass\u001b[49m\u001b[43m(\u001b[49m\u001b[38;5;124;43m'\u001b[39;49m\u001b[38;5;124;43mdata/train\u001b[39;49m\u001b[38;5;124;43m'\u001b[39;49m\u001b[43m,\u001b[49m\u001b[43m \u001b[49m\u001b[43mtransform\u001b[49m\u001b[38;5;241;43m=\u001b[39;49m\u001b[43mtransform\u001b[49m\u001b[43m)\u001b[49m\n\u001b[0;32m      7\u001b[0m test_dataset \u001b[38;5;241m=\u001b[39m PigpenDatasetClass(\u001b[38;5;124m'\u001b[39m\u001b[38;5;124mdata/test\u001b[39m\u001b[38;5;124m'\u001b[39m, transform\u001b[38;5;241m=\u001b[39mtransform)\n\u001b[0;32m      8\u001b[0m valid_dataset \u001b[38;5;241m=\u001b[39m PigpenDatasetClass(\u001b[38;5;124m'\u001b[39m\u001b[38;5;124mdata/validation\u001b[39m\u001b[38;5;124m'\u001b[39m, transform\u001b[38;5;241m=\u001b[39mtransform)\n",
      "File \u001b[1;32me:\\dev\\pigpen-9grid-dataset\\PigpenDataset.py:13\u001b[0m, in \u001b[0;36mPigpenDatasetClass.__init__\u001b[1;34m(self, directory, transform)\u001b[0m\n\u001b[0;32m     11\u001b[0m \u001b[38;5;28;01mfor\u001b[39;00m \u001b[38;5;28mcls\u001b[39m \u001b[38;5;129;01min\u001b[39;00m \u001b[38;5;28mself\u001b[39m\u001b[38;5;241m.\u001b[39mclasses:\n\u001b[0;32m     12\u001b[0m     cls_dir \u001b[38;5;241m=\u001b[39m os\u001b[38;5;241m.\u001b[39mpath\u001b[38;5;241m.\u001b[39mjoin(directory, \u001b[38;5;28mcls\u001b[39m)\n\u001b[1;32m---> 13\u001b[0m     \u001b[38;5;28mself\u001b[39m\u001b[38;5;241m.\u001b[39mimages \u001b[38;5;241m+\u001b[39m\u001b[38;5;241m=\u001b[39m \u001b[43m[\u001b[49m\u001b[43m(\u001b[49m\u001b[43mos\u001b[49m\u001b[38;5;241;43m.\u001b[39;49m\u001b[43mpath\u001b[49m\u001b[38;5;241;43m.\u001b[39;49m\u001b[43mjoin\u001b[49m\u001b[43m(\u001b[49m\u001b[43mcls_dir\u001b[49m\u001b[43m,\u001b[49m\u001b[43m \u001b[49m\u001b[43mimg\u001b[49m\u001b[43m)\u001b[49m\u001b[43m,\u001b[49m\u001b[43m \u001b[49m\u001b[38;5;28;43mcls\u001b[39;49m\u001b[43m)\u001b[49m\u001b[43m \u001b[49m\u001b[38;5;28;43;01mfor\u001b[39;49;00m\u001b[43m \u001b[49m\u001b[43mimg\u001b[49m\u001b[43m \u001b[49m\u001b[38;5;129;43;01min\u001b[39;49;00m\u001b[43m \u001b[49m\u001b[43mos\u001b[49m\u001b[38;5;241;43m.\u001b[39;49m\u001b[43mlistdir\u001b[49m\u001b[43m(\u001b[49m\u001b[43mcls_dir\u001b[49m\u001b[43m)\u001b[49m\u001b[43m \u001b[49m\u001b[38;5;28;43;01mif\u001b[39;49;00m\u001b[43m \u001b[49m\u001b[43mos\u001b[49m\u001b[38;5;241;43m.\u001b[39;49m\u001b[43mpath\u001b[49m\u001b[38;5;241;43m.\u001b[39;49m\u001b[43misfile\u001b[49m\u001b[43m(\u001b[49m\u001b[43mos\u001b[49m\u001b[38;5;241;43m.\u001b[39;49m\u001b[43mpath\u001b[49m\u001b[38;5;241;43m.\u001b[39;49m\u001b[43mjoin\u001b[49m\u001b[43m(\u001b[49m\u001b[43mcls_dir\u001b[49m\u001b[43m,\u001b[49m\u001b[43m \u001b[49m\u001b[43mimg\u001b[49m\u001b[43m)\u001b[49m\u001b[43m)\u001b[49m\u001b[43m]\u001b[49m\n",
      "File \u001b[1;32me:\\dev\\pigpen-9grid-dataset\\PigpenDataset.py:13\u001b[0m, in \u001b[0;36m<listcomp>\u001b[1;34m(.0)\u001b[0m\n\u001b[0;32m     11\u001b[0m \u001b[38;5;28;01mfor\u001b[39;00m \u001b[38;5;28mcls\u001b[39m \u001b[38;5;129;01min\u001b[39;00m \u001b[38;5;28mself\u001b[39m\u001b[38;5;241m.\u001b[39mclasses:\n\u001b[0;32m     12\u001b[0m     cls_dir \u001b[38;5;241m=\u001b[39m os\u001b[38;5;241m.\u001b[39mpath\u001b[38;5;241m.\u001b[39mjoin(directory, \u001b[38;5;28mcls\u001b[39m)\n\u001b[1;32m---> 13\u001b[0m     \u001b[38;5;28mself\u001b[39m\u001b[38;5;241m.\u001b[39mimages \u001b[38;5;241m+\u001b[39m\u001b[38;5;241m=\u001b[39m [(os\u001b[38;5;241m.\u001b[39mpath\u001b[38;5;241m.\u001b[39mjoin(cls_dir, img), \u001b[38;5;28mcls\u001b[39m) \u001b[38;5;28;01mfor\u001b[39;00m img \u001b[38;5;129;01min\u001b[39;00m os\u001b[38;5;241m.\u001b[39mlistdir(cls_dir) \u001b[38;5;28;01mif\u001b[39;00m \u001b[43mos\u001b[49m\u001b[38;5;241;43m.\u001b[39;49m\u001b[43mpath\u001b[49m\u001b[38;5;241;43m.\u001b[39;49m\u001b[43misfile\u001b[49m\u001b[43m(\u001b[49m\u001b[43mos\u001b[49m\u001b[38;5;241;43m.\u001b[39;49m\u001b[43mpath\u001b[49m\u001b[38;5;241;43m.\u001b[39;49m\u001b[43mjoin\u001b[49m\u001b[43m(\u001b[49m\u001b[43mcls_dir\u001b[49m\u001b[43m,\u001b[49m\u001b[43m \u001b[49m\u001b[43mimg\u001b[49m\u001b[43m)\u001b[49m\u001b[43m)\u001b[49m]\n",
      "File \u001b[1;32m<frozen genericpath>:30\u001b[0m, in \u001b[0;36misfile\u001b[1;34m(path)\u001b[0m\n",
      "\u001b[1;31mKeyboardInterrupt\u001b[0m: "
     ]
    }
   ],
   "source": [
    "transform = transforms.Compose([\n",
    "    transforms.ToTensor(),\n",
    "    #transforms.Normalize((0.5,), (0.5,))  # Example normalization\n",
    "])\n",
    "\n",
    "train_dataset = PigpenDatasetClass('data/train', transform=transform)\n",
    "test_dataset = PigpenDatasetClass('data/test', transform=transform)\n",
    "valid_dataset = PigpenDatasetClass('data/validation', transform=transform)\n",
    "\n",
    "train_loader = torch.utils.data.DataLoader(train_dataset, batch_size=27, shuffle=True)\n",
    "test_loader = torch.utils.data.DataLoader(test_dataset, batch_size=27, shuffle=False)\n",
    "valid_loader = torch.utils.data.DataLoader(valid_dataset, batch_size=27, shuffle=False)\n"
   ]
  },
  {
   "cell_type": "code",
   "execution_count": null,
   "metadata": {},
   "outputs": [
    {
     "data": {
      "text/plain": [
       "(54000, 10800, 10800)"
      ]
     },
     "execution_count": 19,
     "metadata": {},
     "output_type": "execute_result"
    }
   ],
   "source": [
    "len(train_dataset), len(test_dataset), len(valid_dataset)"
   ]
  },
  {
   "cell_type": "code",
   "execution_count": null,
   "metadata": {},
   "outputs": [
    {
     "name": "stdout",
     "output_type": "stream",
     "text": [
      "Using cuda device\n",
      "EnhancedCNN(\n",
      "  (flatten): Flatten(start_dim=1, end_dim=-1)\n",
      "  (conv_relu_pool_stack): Sequential(\n",
      "    (0): Conv2d(1, 32, kernel_size=(5, 5), stride=(1, 1), padding=same)\n",
      "    (1): ReLU()\n",
      "    (2): MaxPool2d(kernel_size=2, stride=2, padding=0, dilation=1, ceil_mode=False)\n",
      "    (3): Dropout2d(p=0.1, inplace=False)\n",
      "    (4): Conv2d(32, 64, kernel_size=(5, 5), stride=(1, 1), padding=same)\n",
      "    (5): ReLU()\n",
      "    (6): MaxPool2d(kernel_size=2, stride=2, padding=0, dilation=1, ceil_mode=False)\n",
      "    (7): Dropout2d(p=0.2, inplace=False)\n",
      "    (8): Conv2d(64, 128, kernel_size=(5, 5), stride=(1, 1), padding=same)\n",
      "    (9): ReLU()\n",
      "    (10): MaxPool2d(kernel_size=2, stride=2, padding=0, dilation=1, ceil_mode=False)\n",
      "    (11): Dropout2d(p=0.4, inplace=False)\n",
      "  )\n",
      "  (linear_layers): Sequential(\n",
      "    (0): Linear(in_features=1152, out_features=256, bias=True)\n",
      "    (1): ReLU()\n",
      "    (2): Linear(in_features=256, out_features=28, bias=True)\n",
      "  )\n",
      ")\n"
     ]
    }
   ],
   "source": [
    "import torch.nn as nn\n",
    "import torch.nn.functional as F\n",
    "\n",
    "# Get cpu, gpu or mps device for training.\n",
    "device = (\n",
    "    \"cuda\"\n",
    "    if torch.cuda.is_available()\n",
    "    else \"mps\"\n",
    "    if torch.backends.mps.is_available()\n",
    "    else \"cpu\"\n",
    ")\n",
    "print(f\"Using {device} device\")\n",
    "\n",
    "class EnhancedCNN(nn.Module):\n",
    "    def __init__(self):\n",
    "        super(EnhancedCNN, self).__init__()\n",
    "        self.flatten = nn.Flatten()\n",
    "        self.conv_relu_pool_stack = nn.Sequential(\n",
    "            nn.Conv2d(1, 32, kernel_size=5, stride=1, padding=\"same\"), #layer 1\n",
    "            nn.ReLU(),\n",
    "            #nn.BatchNorm2d(32),\n",
    "            nn.MaxPool2d(2),\n",
    "            nn.Dropout2d(0.1),\n",
    "            nn.Conv2d(32, 64, kernel_size=5, stride=1, padding=\"same\"), #layer 2\n",
    "            nn.ReLU(),\n",
    "            #nn.BatchNorm2d(64),\n",
    "            nn.MaxPool2d(2),\n",
    "            nn.Dropout2d(0.2),\n",
    "            nn.Conv2d(64, 128, kernel_size=5, stride=1, padding=\"same\"), #layer 3\n",
    "            nn.ReLU(),\n",
    "            #nn.BatchNorm2d(128),\n",
    "            nn.MaxPool2d(2),\n",
    "            nn.Dropout2d(0.4)\n",
    "        )\n",
    "\n",
    "        # Adjust these sizes based on your actual output from convolutions\n",
    "        self.linear_layers = nn.Sequential(\n",
    "            nn.Linear(1152, 256),  # Adjust size according to output\n",
    "            nn.ReLU(),\n",
    "            nn.Linear(256, 28)  # 28 output classes\n",
    "        )\n",
    "\n",
    "\n",
    "    def forward(self, x):\n",
    "        x = self.conv_relu_pool_stack(x)\n",
    "        #print(x.size())\n",
    "        x = self.flatten(x)\n",
    "        x = self.linear_layers(x)\n",
    "        return x\n",
    "\n",
    "\n",
    "model = EnhancedCNN().to(device)\n",
    "print(model)\n"
   ]
  },
  {
   "cell_type": "code",
   "execution_count": null,
   "metadata": {},
   "outputs": [],
   "source": [
    "\n",
    "# Create the network, define a loss function, and optimizer\n",
    "loss_fn = nn.CrossEntropyLoss()\n",
    "optimizer = optim.SGD(model.parameters(), lr=0.01, momentum=0.9)\n"
   ]
  },
  {
   "cell_type": "code",
   "execution_count": null,
   "metadata": {},
   "outputs": [
    {
     "name": "stdout",
     "output_type": "stream",
     "text": [
      "Shape of X [N, C, H, W]: torch.Size([27, 1, 28, 28])\n",
      "Shape of y: torch.Size([27]) torch.int64\n"
     ]
    }
   ],
   "source": [
    "for X, y in test_loader:\n",
    "    print(f\"Shape of X [N, C, H, W]: {X.shape}\")\n",
    "    print(f\"Shape of y: {y.shape} {y.dtype}\")\n",
    "    break"
   ]
  },
  {
   "cell_type": "code",
   "execution_count": null,
   "metadata": {},
   "outputs": [],
   "source": [
    "#stat accumulators\n",
    "epoch_val_loss = []\n",
    "epoch_val_acc = []"
   ]
  },
  {
   "cell_type": "code",
   "execution_count": null,
   "metadata": {},
   "outputs": [],
   "source": [
    "def train(dataloader, model, loss_fn, optimizer):\n",
    "    size = len(dataloader.dataset)\n",
    "    model.train()\n",
    "    for batch, (X, y) in enumerate(dataloader):\n",
    "        X, y = X.to(device), y.to(device)\n",
    "\n",
    "        # Compute prediction error\n",
    "        pred = model(X)\n",
    "        loss = loss_fn(pred, y)\n",
    "\n",
    "        # Backpropagation\n",
    "        loss.backward()\n",
    "        optimizer.step()\n",
    "        optimizer.zero_grad()\n",
    "\n",
    "        if batch % 100 == 0:\n",
    "            loss, current = loss.item(), (batch + 1) * len(X)\n",
    "            print(f\"loss: {loss:>7f}  [{current:>5d}/{size:>5d}]\")"
   ]
  },
  {
   "cell_type": "code",
   "execution_count": null,
   "metadata": {},
   "outputs": [],
   "source": [
    "def test(dataloader, model, loss_fn):\n",
    "    size = len(dataloader.dataset)\n",
    "    num_batches = len(dataloader)\n",
    "    model.eval()\n",
    "    test_loss, correct = 0, 0\n",
    "    with torch.no_grad():\n",
    "        for X, y in dataloader:\n",
    "            X, y = X.to(device), y.to(device)\n",
    "            pred = model(X)\n",
    "            test_loss += loss_fn(pred, y).item()\n",
    "            correct += (pred.argmax(1) == y).type(torch.float).sum().item()\n",
    "    test_loss /= num_batches\n",
    "    correct /= size\n",
    "    print(f\"Test Error: \\n Accuracy: {(100*correct):>0.1f}%, Avg loss: {test_loss:>8f} \\n\")\n",
    "    epoch_val_loss.append(test_loss)\n",
    "    epoch_val_acc.append((100*correct))"
   ]
  },
  {
   "cell_type": "code",
   "execution_count": null,
   "metadata": {},
   "outputs": [
    {
     "name": "stdout",
     "output_type": "stream",
     "text": [
      "Epoch 1\n",
      "-------------------------------\n",
      "loss: 3.335995  [   27/54000]\n",
      "loss: 3.286643  [ 2727/54000]\n",
      "loss: 3.291932  [ 5427/54000]\n",
      "loss: 2.451245  [ 8127/54000]\n",
      "loss: 0.895272  [10827/54000]\n",
      "loss: 0.545389  [13527/54000]\n",
      "loss: 0.619108  [16227/54000]\n",
      "loss: 0.020373  [18927/54000]\n",
      "loss: 0.229823  [21627/54000]\n",
      "loss: 0.159565  [24327/54000]\n",
      "loss: 0.131847  [27027/54000]\n",
      "loss: 0.126779  [29727/54000]\n",
      "loss: 0.416706  [32427/54000]\n",
      "loss: 0.015414  [35127/54000]\n",
      "loss: 0.050552  [37827/54000]\n",
      "loss: 0.012310  [40527/54000]\n",
      "loss: 0.058966  [43227/54000]\n",
      "loss: 0.051310  [45927/54000]\n",
      "loss: 0.007362  [48627/54000]\n",
      "loss: 0.054105  [51327/54000]\n",
      "Test Error: \n",
      " Accuracy: 94.6%, Avg loss: 0.188762 \n",
      "\n",
      "Epoch 2\n",
      "-------------------------------\n",
      "loss: 0.005580  [   27/54000]\n",
      "loss: 0.029312  [ 2727/54000]\n",
      "loss: 0.005304  [ 5427/54000]\n",
      "loss: 0.034539  [ 8127/54000]\n",
      "loss: 0.013166  [10827/54000]\n",
      "loss: 0.055693  [13527/54000]\n",
      "loss: 0.005799  [16227/54000]\n",
      "loss: 0.072961  [18927/54000]\n",
      "loss: 0.069087  [21627/54000]\n",
      "loss: 0.037745  [24327/54000]\n",
      "loss: 0.000741  [27027/54000]\n",
      "loss: 0.001428  [29727/54000]\n",
      "loss: 0.001341  [32427/54000]\n",
      "loss: 0.016843  [35127/54000]\n",
      "loss: 0.018778  [37827/54000]\n",
      "loss: 0.014651  [40527/54000]\n",
      "loss: 0.000836  [43227/54000]\n",
      "loss: 0.000922  [45927/54000]\n",
      "loss: 0.001269  [48627/54000]\n",
      "loss: 0.004309  [51327/54000]\n",
      "Test Error: \n",
      " Accuracy: 92.9%, Avg loss: 0.226476 \n",
      "\n",
      "Epoch 3\n",
      "-------------------------------\n",
      "loss: 0.004155  [   27/54000]\n",
      "loss: 0.001555  [ 2727/54000]\n",
      "loss: 0.002636  [ 5427/54000]\n",
      "loss: 0.024246  [ 8127/54000]\n",
      "loss: 0.066188  [10827/54000]\n",
      "loss: 0.002972  [13527/54000]\n",
      "loss: 0.000864  [16227/54000]\n",
      "loss: 0.002814  [18927/54000]\n",
      "loss: 0.135087  [21627/54000]\n",
      "loss: 0.005450  [24327/54000]\n",
      "loss: 0.000148  [27027/54000]\n",
      "loss: 0.004246  [29727/54000]\n",
      "loss: 0.000080  [32427/54000]\n",
      "loss: 0.078316  [35127/54000]\n",
      "loss: 0.001232  [37827/54000]\n",
      "loss: 0.000853  [40527/54000]\n",
      "loss: 0.003753  [43227/54000]\n",
      "loss: 0.000905  [45927/54000]\n",
      "loss: 0.000144  [48627/54000]\n",
      "loss: 0.000022  [51327/54000]\n",
      "Test Error: \n",
      " Accuracy: 94.8%, Avg loss: 0.186615 \n",
      "\n",
      "Epoch 4\n",
      "-------------------------------\n",
      "loss: 0.000465  [   27/54000]\n",
      "loss: 0.001332  [ 2727/54000]\n",
      "loss: 0.002257  [ 5427/54000]\n",
      "loss: 0.000499  [ 8127/54000]\n",
      "loss: 0.002320  [10827/54000]\n",
      "loss: 0.011541  [13527/54000]\n",
      "loss: 0.000106  [16227/54000]\n",
      "loss: 0.000768  [18927/54000]\n",
      "loss: 0.001330  [21627/54000]\n",
      "loss: 0.000027  [24327/54000]\n",
      "loss: 0.000033  [27027/54000]\n",
      "loss: 0.127635  [29727/54000]\n",
      "loss: 0.004794  [32427/54000]\n",
      "loss: 0.000064  [35127/54000]\n",
      "loss: 0.007304  [37827/54000]\n",
      "loss: 0.000126  [40527/54000]\n",
      "loss: 0.000338  [43227/54000]\n",
      "loss: 0.000828  [45927/54000]\n",
      "loss: 0.001110  [48627/54000]\n",
      "loss: 0.000183  [51327/54000]\n",
      "Test Error: \n",
      " Accuracy: 96.0%, Avg loss: 0.136258 \n",
      "\n",
      "Epoch 5\n",
      "-------------------------------\n",
      "loss: 0.000014  [   27/54000]\n",
      "loss: 0.000773  [ 2727/54000]\n",
      "loss: 0.000015  [ 5427/54000]\n",
      "loss: 0.004529  [ 8127/54000]\n",
      "loss: 0.006305  [10827/54000]\n",
      "loss: 0.000129  [13527/54000]\n",
      "loss: 0.000020  [16227/54000]\n",
      "loss: 0.000030  [18927/54000]\n",
      "loss: 0.000049  [21627/54000]\n",
      "loss: 0.002905  [24327/54000]\n",
      "loss: 0.006619  [27027/54000]\n",
      "loss: 0.000037  [29727/54000]\n",
      "loss: 0.007682  [32427/54000]\n",
      "loss: 0.009741  [35127/54000]\n",
      "loss: 0.016435  [37827/54000]\n",
      "loss: 0.000025  [40527/54000]\n",
      "loss: 0.000476  [43227/54000]\n",
      "loss: 0.000084  [45927/54000]\n",
      "loss: 0.005775  [48627/54000]\n",
      "loss: 0.000597  [51327/54000]\n",
      "Test Error: \n",
      " Accuracy: 95.8%, Avg loss: 0.148337 \n",
      "\n",
      "Epoch 6\n",
      "-------------------------------\n",
      "loss: 0.000068  [   27/54000]\n",
      "loss: 0.383325  [ 2727/54000]\n",
      "loss: 0.000108  [ 5427/54000]\n",
      "loss: 0.022317  [ 8127/54000]\n",
      "loss: 0.001782  [10827/54000]\n",
      "loss: 0.001090  [13527/54000]\n",
      "loss: 0.000004  [16227/54000]\n",
      "loss: 0.000087  [18927/54000]\n",
      "loss: 0.000228  [21627/54000]\n",
      "loss: 0.021792  [24327/54000]\n",
      "loss: 0.000203  [27027/54000]\n",
      "loss: 0.000002  [29727/54000]\n",
      "loss: 0.000780  [32427/54000]\n",
      "loss: 0.022109  [35127/54000]\n",
      "loss: 0.000463  [37827/54000]\n",
      "loss: 0.000005  [40527/54000]\n",
      "loss: 0.000014  [43227/54000]\n",
      "loss: 0.001588  [45927/54000]\n",
      "loss: 0.000003  [48627/54000]\n",
      "loss: 0.000087  [51327/54000]\n",
      "Test Error: \n",
      " Accuracy: 95.7%, Avg loss: 0.145368 \n",
      "\n",
      "Epoch 7\n",
      "-------------------------------\n",
      "loss: 0.001400  [   27/54000]\n",
      "loss: 0.001256  [ 2727/54000]\n",
      "loss: 0.000059  [ 5427/54000]\n",
      "loss: 0.000771  [ 8127/54000]\n",
      "loss: 0.000847  [10827/54000]\n",
      "loss: 0.000025  [13527/54000]\n",
      "loss: 0.025585  [16227/54000]\n",
      "loss: 0.000005  [18927/54000]\n",
      "loss: 0.000006  [21627/54000]\n",
      "loss: 0.000041  [24327/54000]\n",
      "loss: 0.000002  [27027/54000]\n",
      "loss: 0.001620  [29727/54000]\n",
      "loss: 0.000017  [32427/54000]\n",
      "loss: 0.001088  [35127/54000]\n",
      "loss: 0.000297  [37827/54000]\n",
      "loss: 0.000016  [40527/54000]\n",
      "loss: 0.000010  [43227/54000]\n",
      "loss: 0.000036  [45927/54000]\n",
      "loss: 0.000291  [48627/54000]\n",
      "loss: 0.000103  [51327/54000]\n",
      "Test Error: \n",
      " Accuracy: 96.2%, Avg loss: 0.120581 \n",
      "\n",
      "Epoch 8\n",
      "-------------------------------\n",
      "loss: 0.000003  [   27/54000]\n",
      "loss: 0.000224  [ 2727/54000]\n",
      "loss: 0.000043  [ 5427/54000]\n",
      "loss: 0.000127  [ 8127/54000]\n",
      "loss: 0.000105  [10827/54000]\n",
      "loss: 0.000080  [13527/54000]\n",
      "loss: 0.000027  [16227/54000]\n",
      "loss: 0.000206  [18927/54000]\n",
      "loss: 0.000004  [21627/54000]\n",
      "loss: 0.034815  [24327/54000]\n",
      "loss: 0.000042  [27027/54000]\n",
      "loss: 0.000447  [29727/54000]\n",
      "loss: 0.000421  [32427/54000]\n",
      "loss: 0.000478  [35127/54000]\n",
      "loss: 0.000007  [37827/54000]\n",
      "loss: 0.000315  [40527/54000]\n",
      "loss: 0.002664  [43227/54000]\n",
      "loss: 0.000293  [45927/54000]\n",
      "loss: 0.000929  [48627/54000]\n",
      "loss: 0.000479  [51327/54000]\n",
      "Test Error: \n",
      " Accuracy: 96.0%, Avg loss: 0.121023 \n",
      "\n",
      "Epoch 9\n",
      "-------------------------------\n",
      "loss: 0.000265  [   27/54000]\n",
      "loss: 0.000003  [ 2727/54000]\n",
      "loss: 0.001222  [ 5427/54000]\n",
      "loss: 0.000004  [ 8127/54000]\n",
      "loss: 0.000005  [10827/54000]\n",
      "loss: 0.002195  [13527/54000]\n",
      "loss: 0.000223  [16227/54000]\n",
      "loss: 0.000084  [18927/54000]\n",
      "loss: 0.000106  [21627/54000]\n",
      "loss: 0.000264  [24327/54000]\n",
      "loss: 0.000022  [27027/54000]\n",
      "loss: 0.000028  [29727/54000]\n",
      "loss: 0.000892  [32427/54000]\n",
      "loss: 0.000278  [35127/54000]\n",
      "loss: 0.000132  [37827/54000]\n",
      "loss: 0.000111  [40527/54000]\n",
      "loss: 0.000250  [43227/54000]\n",
      "loss: 0.000134  [45927/54000]\n",
      "loss: 0.000002  [48627/54000]\n",
      "loss: 0.000046  [51327/54000]\n",
      "Test Error: \n",
      " Accuracy: 96.0%, Avg loss: 0.141730 \n",
      "\n",
      "Epoch 10\n",
      "-------------------------------\n",
      "loss: 0.001359  [   27/54000]\n",
      "loss: 0.000067  [ 2727/54000]\n",
      "loss: 0.000024  [ 5427/54000]\n",
      "loss: 0.000058  [ 8127/54000]\n",
      "loss: 0.000293  [10827/54000]\n",
      "loss: 0.000121  [13527/54000]\n",
      "loss: 0.043105  [16227/54000]\n",
      "loss: 0.000004  [18927/54000]\n",
      "loss: 0.000004  [21627/54000]\n",
      "loss: 0.000001  [24327/54000]\n",
      "loss: 0.000072  [27027/54000]\n",
      "loss: 0.000785  [29727/54000]\n",
      "loss: 0.000033  [32427/54000]\n",
      "loss: 0.000042  [35127/54000]\n",
      "loss: 0.000019  [37827/54000]\n",
      "loss: 0.000606  [40527/54000]\n",
      "loss: 0.005931  [43227/54000]\n",
      "loss: 0.000531  [45927/54000]\n",
      "loss: 0.000084  [48627/54000]\n",
      "loss: 0.000011  [51327/54000]\n",
      "Test Error: \n",
      " Accuracy: 96.1%, Avg loss: 0.127795 \n",
      "\n",
      "Done!\n"
     ]
    }
   ],
   "source": [
    "epochs = 10\n",
    "for t in range(epochs):\n",
    "    print(f\"Epoch {t+1}\\n-------------------------------\")\n",
    "    train(train_loader, model, loss_fn, optimizer)\n",
    "    test(valid_loader, model, loss_fn)\n",
    "print(\"Done!\")"
   ]
  },
  {
   "cell_type": "code",
   "execution_count": null,
   "metadata": {},
   "outputs": [
    {
     "data": {
      "text/plain": [
       "<function matplotlib.pyplot.show(close=None, block=None)>"
      ]
     },
     "execution_count": 27,
     "metadata": {},
     "output_type": "execute_result"
    },
    {
     "data": {
      "image/png": "[encoded data removed]",
      "text/plain": [
       "<Figure size 640x480 with 1 Axes>"
      ]
     },
     "metadata": {},
     "output_type": "display_data"
    }
   ],
   "source": [
    "from matplotlib import pyplot as plt\n",
    "plt.plot(epoch_val_loss, label='val_loss')\n",
    "plt.xlabel('Epoch')\n",
    "plt.ylabel('Loss')\n",
    "plt.title('Val. Loss over Epochs')\n",
    "plt.show"
   ]
  },
  {
   "cell_type": "code",
   "execution_count": null,
   "metadata": {},
   "outputs": [
    {
     "data": {
      "text/plain": [
       "<function matplotlib.pyplot.show(close=None, block=None)>"
      ]
     },
     "execution_count": 28,
     "metadata": {},
     "output_type": "execute_result"
    },
    {
     "data": {
      "image/png": "[encoded data removed]",
      "text/plain": [
       "<Figure size 640x480 with 1 Axes>"
      ]
     },
     "metadata": {},
     "output_type": "display_data"
    }
   ],
   "source": [
    "plt.plot(epoch_val_acc,label='val_acc')\n",
    "plt.xlabel('Epoch')\n",
    "plt.ylabel('Acc')\n",
    "plt.title('Val. Acc over Epochs')\n",
    "plt.show"
   ]
  },
  {
   "cell_type": "code",
   "execution_count": null,
   "metadata": {},
   "outputs": [
    {
     "name": "stdout",
     "output_type": "stream",
     "text": [
      "Test Error: \n",
      " Accuracy: 96.4%, Avg loss: 0.119690 \n",
      "\n"
     ]
    }
   ],
   "source": [
    "test(test_loader, model, loss_fn)"
   ]
  },
  {
   "cell_type": "code",
   "execution_count": null,
   "metadata": {},
   "outputs": [
    {
     "data": {
      "text/plain": [
       "'\\nmodel_name = \"enahncedcnn-conv-relu-bn-pool-do-adj\"\\ntorch.save(model.state_dict(), model_name + \".pth\")\\nprint(f\"Saved PyTorch Model State to {model_name}.pth\")\\n'"
      ]
     },
     "execution_count": 30,
     "metadata": {},
     "output_type": "execute_result"
    }
   ],
   "source": [
    "'''\n",
    "model_name = \"enahncedcnn-conv-relu-bn-pool-do-adj\"\n",
    "torch.save(model.state_dict(), model_name + \".pth\")\n",
    "print(f\"Saved PyTorch Model State to {model_name}.pth\")\n",
    "'''"
   ]
  }
 ],
 "metadata": {
  "kernelspec": {
   "display_name": "Python 3",
   "language": "python",
   "name": "python3"
  },
  "language_info": {
   "codemirror_mode": {
    "name": "ipython",
    "version": 3
   },
   "file_extension": ".py",
   "mimetype": "text/x-python",
   "name": "python",
   "nbconvert_exporter": "python",
   "pygments_lexer": "ipython3",
   "version": "3.11.4"
  }
 },
 "nbformat": 4,
 "nbformat_minor": 2
}

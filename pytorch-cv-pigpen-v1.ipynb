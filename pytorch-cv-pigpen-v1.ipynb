{
 "cells": [
  {
   "cell_type": "markdown",
   "metadata": {},
   "source": [
    "# Pigpen PyTorch Example\n",
    "by Joe Norton"
   ]
  },
  {
   "cell_type": "code",
   "execution_count": 24,
   "metadata": {},
   "outputs": [],
   "source": [
    "import torch\n",
    "import torchvision\n",
    "import torchvision.transforms as transforms\n",
    "import torch.nn as nn\n",
    "import torch.nn.functional as F\n",
    "import torch.optim as optim"
   ]
  },
  {
   "cell_type": "code",
   "execution_count": 25,
   "metadata": {},
   "outputs": [],
   "source": [
    "import random\n",
    "from PigpenDataset import PigpenDatasetClass\n"
   ]
  },
  {
   "cell_type": "code",
   "execution_count": 26,
   "metadata": {},
   "outputs": [],
   "source": [
    "transform = transforms.Compose([\n",
    "    transforms.ToTensor(),\n",
    "    #transforms.Normalize((0.5,), (0.5,))  # Example normalization\n",
    "])\n",
    "\n",
    "train_dataset = PigpenDatasetClass('train', transform=transform)\n",
    "test_dataset = PigpenDatasetClass('test', transform=transform)\n",
    "valid_dataset = PigpenDatasetClass('validation', transform=transform)\n",
    "\n",
    "train_loader = torch.utils.data.DataLoader(train_dataset, batch_size=28, shuffle=True)\n",
    "test_loader = torch.utils.data.DataLoader(test_dataset, batch_size=28, shuffle=False)\n",
    "valid_loader = torch.utils.data.DataLoader(valid_dataset, batch_size=28, shuffle=False)"
   ]
  },
  {
   "cell_type": "code",
   "execution_count": 27,
   "metadata": {},
   "outputs": [
    {
     "data": {
      "text/plain": [
       "(53974, 13500, 13500)"
      ]
     },
     "execution_count": 27,
     "metadata": {},
     "output_type": "execute_result"
    }
   ],
   "source": [
    "len(train_dataset), len(test_dataset), len(valid_dataset)"
   ]
  },
  {
   "cell_type": "code",
   "execution_count": 28,
   "metadata": {},
   "outputs": [
    {
     "name": "stdout",
     "output_type": "stream",
     "text": [
      "Using cpu device\n",
      "NeuralNetwork(\n",
      "  (flatten): Flatten(start_dim=1, end_dim=-1)\n",
      "  (linear_relu_stack): Sequential(\n",
      "    (0): Linear(in_features=784, out_features=512, bias=True)\n",
      "    (1): ReLU()\n",
      "    (2): Linear(in_features=512, out_features=512, bias=True)\n",
      "    (3): ReLU()\n",
      "    (4): Linear(in_features=512, out_features=28, bias=True)\n",
      "  )\n",
      ")\n"
     ]
    }
   ],
   "source": [
    "# Get cpu, gpu or mps device for training.\n",
    "device = (\n",
    "    \"cuda\"\n",
    "    if torch.cuda.is_available()\n",
    "    else \"mps\"\n",
    "    if torch.backends.mps.is_available()\n",
    "    else \"cpu\"\n",
    ")\n",
    "print(f\"Using {device} device\")\n",
    "\n",
    "# Define model\n",
    "class NeuralNetwork(nn.Module):\n",
    "    def __init__(self):\n",
    "        super().__init__()\n",
    "        self.flatten = nn.Flatten()\n",
    "        self.linear_relu_stack = nn.Sequential(\n",
    "            nn.Linear(28*28, 512),\n",
    "            nn.ReLU(),\n",
    "            nn.Linear(512, 512),\n",
    "            nn.ReLU(),\n",
    "            nn.Linear(512, 28)\n",
    "        )\n",
    "\n",
    "    def forward(self, x):\n",
    "        x = self.flatten(x)\n",
    "        logits = self.linear_relu_stack(x)\n",
    "        return logits\n",
    "\n",
    "model = NeuralNetwork().to(device)\n",
    "print(model)"
   ]
  },
  {
   "cell_type": "code",
   "execution_count": 29,
   "metadata": {},
   "outputs": [],
   "source": [
    "\n",
    "# Create the network, define a loss function, and optimizer\n",
    "loss_fn = nn.CrossEntropyLoss()\n",
    "optimizer = optim.SGD(model.parameters(), lr=0.01, momentum=0.9)"
   ]
  },
  {
   "cell_type": "code",
   "execution_count": 30,
   "metadata": {},
   "outputs": [],
   "source": [
    "def train(dataloader, model, loss_fn, optimizer):\n",
    "    size = len(dataloader.dataset)\n",
    "    model.train()\n",
    "    for batch, (X, y) in enumerate(dataloader):\n",
    "        X, y = X.to(device), y.to(device)\n",
    "\n",
    "        # Compute prediction error\n",
    "        pred = model(X)\n",
    "        loss = loss_fn(pred, y)\n",
    "\n",
    "        # Backpropagation\n",
    "        loss.backward()\n",
    "        optimizer.step()\n",
    "        optimizer.zero_grad()\n",
    "\n",
    "        if batch % 100 == 0:\n",
    "            loss, current = loss.item(), (batch + 1) * len(X)\n",
    "            print(f\"loss: {loss:>7f}  [{current:>5d}/{size:>5d}]\")\n",
    "        \n",
    "def test(dataloader, model, loss_fn):\n",
    "    size = len(dataloader.dataset)\n",
    "    num_batches = len(dataloader)\n",
    "    model.eval()\n",
    "    test_loss, correct = 0, 0\n",
    "    with torch.no_grad():\n",
    "        for X, y in dataloader:\n",
    "            X, y = X.to(device), y.to(device)\n",
    "            pred = model(X)\n",
    "            test_loss += loss_fn(pred, y).item()\n",
    "            correct += (pred.argmax(1) == y).type(torch.float).sum().item()\n",
    "    test_loss /= num_batches\n",
    "    correct /= size\n",
    "    print(f\"Test Error: \\n Accuracy: {(100*correct):>0.1f}%, Avg loss: {test_loss:>8f} \\n\")"
   ]
  },
  {
   "cell_type": "code",
   "execution_count": 31,
   "metadata": {},
   "outputs": [
    {
     "name": "stdout",
     "output_type": "stream",
     "text": [
      "Epoch 1\n",
      "-------------------------------\n",
      "loss: 3.355399  [   28/53974]\n"
     ]
    },
    {
     "name": "stdout",
     "output_type": "stream",
     "text": [
      "loss: 2.950927  [ 2828/53974]\n",
      "loss: 1.358134  [ 5628/53974]\n",
      "loss: 0.877169  [ 8428/53974]\n",
      "loss: 0.493135  [11228/53974]\n",
      "loss: 0.355321  [14028/53974]\n",
      "loss: 0.493009  [16828/53974]\n",
      "loss: 0.494101  [19628/53974]\n",
      "loss: 0.130580  [22428/53974]\n",
      "loss: 0.090367  [25228/53974]\n",
      "loss: 0.190067  [28028/53974]\n",
      "loss: 0.721036  [30828/53974]\n",
      "loss: 0.426996  [33628/53974]\n",
      "loss: 0.100826  [36428/53974]\n",
      "loss: 0.213606  [39228/53974]\n",
      "loss: 0.175190  [42028/53974]\n",
      "loss: 0.081666  [44828/53974]\n",
      "loss: 0.102770  [47628/53974]\n",
      "loss: 0.119312  [50428/53974]\n",
      "loss: 0.039922  [53228/53974]\n",
      "Test Error: \n",
      " Accuracy: 46.0%, Avg loss: 3.173775 \n",
      "\n",
      "Epoch 2\n",
      "-------------------------------\n",
      "loss: 0.217161  [   28/53974]\n",
      "loss: 0.054290  [ 2828/53974]\n",
      "loss: 0.046774  [ 5628/53974]\n",
      "loss: 0.362513  [ 8428/53974]\n",
      "loss: 0.052166  [11228/53974]\n",
      "loss: 0.035143  [14028/53974]\n",
      "loss: 0.040843  [16828/53974]\n",
      "loss: 0.011575  [19628/53974]\n",
      "loss: 0.058826  [22428/53974]\n",
      "loss: 0.092925  [25228/53974]\n",
      "loss: 0.026471  [28028/53974]\n",
      "loss: 0.009785  [30828/53974]\n",
      "loss: 0.046604  [33628/53974]\n",
      "loss: 0.141796  [36428/53974]\n",
      "loss: 0.055820  [39228/53974]\n",
      "loss: 0.015584  [42028/53974]\n",
      "loss: 0.009711  [44828/53974]\n",
      "loss: 0.010092  [47628/53974]\n",
      "loss: 0.095623  [50428/53974]\n",
      "loss: 0.003830  [53228/53974]\n",
      "Test Error: \n",
      " Accuracy: 45.0%, Avg loss: 3.634176 \n",
      "\n",
      "Done!\n"
     ]
    }
   ],
   "source": [
    "epochs = 2\n",
    "for t in range(epochs):\n",
    "    print(f\"Epoch {t+1}\\n-------------------------------\")\n",
    "    train(train_loader, model, loss_fn, optimizer)\n",
    "    test(valid_loader, model, loss_fn)\n",
    "print(\"Done!\")"
   ]
  },
  {
   "cell_type": "code",
   "execution_count": 32,
   "metadata": {},
   "outputs": [
    {
     "name": "stdout",
     "output_type": "stream",
     "text": [
      "Test Error: \n",
      " Accuracy: 44.3%, Avg loss: 3.622199 \n",
      "\n"
     ]
    }
   ],
   "source": [
    "test(test_loader, model, loss_fn)"
   ]
  }
 ],
 "metadata": {
  "kernelspec": {
   "display_name": "Python 3",
   "language": "python",
   "name": "python3"
  },
  "language_info": {
   "codemirror_mode": {
    "name": "ipython",
    "version": 3
   },
   "file_extension": ".py",
   "mimetype": "text/x-python",
   "name": "python",
   "nbconvert_exporter": "python",
   "pygments_lexer": "ipython3",
   "version": "3.11.4"
  }
 },
 "nbformat": 4,
 "nbformat_minor": 2
}
